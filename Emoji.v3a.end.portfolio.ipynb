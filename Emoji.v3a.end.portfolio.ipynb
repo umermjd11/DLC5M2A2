{
 "cells": [
  {
   "cell_type": "markdown",
   "metadata": {},
   "source": [
    "<div style=\"padding: 15px; \n",
    "            color: #FFC07F; \n",
    "            margin: 15px; \n",
    "            font-size: 1.5em; \n",
    "            display: fill; \n",
    "            border-radius: 10px; \n",
    "            border: 2px solid #FF9F00; \n",
    "            background-color: #2F2E41; \n",
    "            overflow: hidden; \n",
    "            box-shadow: 0 4px 8px rgba(0, 0, 0, 0.3);\">\n",
    "    <center>\n",
    "        <a id=\"title\"></a>\n",
    "        <b style=\"font-size: 1.8em; color: #FFC07F;\">Emojifier: Enhancing Text Expressiveness with Emoji</b><br><br>\n",
    "        <a id=\"top\"></a>\n",
    "        <b style=\"font-size: 1.4em; color: #FFC07F;\">Table of Contents</b>\n",
    "    </center>\n",
    "    <br>\n",
    "    <ul style=\"list-style-type: none; padding-left: 0;\">\n",
    "        <ul style=\"list-style-type: none; padding-left: 0;\">\n",
    "            <li style=\"padding: 8px 0;\">\n",
    "                <a href=\"#1\" style=\"color: #FFCC66; text-decoration: none;\">1 - Overview</a>\n",
    "            </li>\n",
    "            <ul style=\"list-style-type: none; padding-left: 20px;\">\n",
    "                <li style=\"padding: 8px 0;\">\n",
    "                    <a href=\"#1-1\" style=\"color: #FFCC66; text-decoration: none; font-weight: normal; font-size: 16px;\">1.1. Emojifier: Enhancing Text Expressiveness with Emoji</a>\n",
    "                </li>\n",
    "                <li style=\"padding: 8px 0;\">\n",
    "                    <a href=\"#1-2\" style=\"color: #FFCC66; text-decoration: none; font-weight: normal; font-size: 16px;\">1.2. Using Word Vectors to Optimize Emoji Lookup</a>\n",
    "                </li>\n",
    "                <li style=\"padding: 8px 0;\">\n",
    "                    <a href=\"#1-3\" style=\"color: #FFCC66; text-decoration: none; font-weight: normal; font-size: 16px;\">1.3. Project Objectives</a>\n",
    "                </li>\n",
    "                <li style=\"padding: 8px 0;\">\n",
    "                    <a href=\"#1-4\" style=\"color: #FFCC66; text-decoration: none; font-weight: normal; font-size: 16px;\">1.4. Key Outcomes</a>\n",
    "                </li>\n",
    "            </ul>\n",
    "        </ul>\n",
    "        <li style=\"padding: 8px 0;\">\n",
    "            <a href=\"#2\" style=\"color: #FFCC66; text-decoration: none;\">2 - Imports</a>\n",
    "        </li>\n",
    "        <ul style=\"list-style-type: none; padding-left: 0;\">\n",
    "            <li style=\"padding: 8px 0;\">\n",
    "                <a href=\"#3\" style=\"color: #FFCC66; text-decoration: none;\">3. Baseline Model: Emojifier-V1</a>\n",
    "            </li>\n",
    "            <ul style=\"list-style-type: none; padding-left: 20px;\">\n",
    "                <li style=\"padding: 8px 0;\">\n",
    "                    <a href=\"#3-1\" style=\"color: #FFCC66; text-decoration: none; font-weight: normal; font-size: 16px;\">3.1.Dataset: EMOJISET</a>\n",
    "                </li>\n",
    "                <li style=\"padding: 8px 0;\">\n",
    "                    <a href=\"#3-2\" style=\"color: #FFCC66; text-decoration: none; font-weight: normal; font-size: 16px;\">3.2. Overview of the Emojifier-V1</a>\n",
    "                </li> \n",
    "                <li style=\"padding: 8px 0;\">\n",
    "                    <a href=\"#3-3\" style=\"color: #FFCC66; text-decoration: none; font-weight: normal; font-size: 16px;\">3.3. Implementing Emojifier-V1</a>\n",
    "                </li>  \n",
    "                <li style=\"padding: 8px 0;\">\n",
    "                    <a href=\"#3-4\" style=\"color: #FFCC66; text-decoration: none; font-weight: normal; font-size: 16px;\">3.4. Train Emojifier-V1</a>\n",
    "                </li>  \n",
    "                <li style=\"padding: 8px 0;\">\n",
    "                    <a href=\"#3-5\" style=\"color: #FFCC66; text-decoration: none; font-weight: normal; font-size: 16px;\">3.5. Examining Test Set Performance - Emojifier-V1</a>\n",
    "                </li>\n",
    "            </ul>\n",
    "        </ul>\n",
    "        <ul style=\"list-style-type: none; padding-left: 0;\">\n",
    "            <li style=\"padding: 8px 0;\">\n",
    "                <a href=\"#4\" style=\"color: #FFCC66; text-decoration: none;\">4 - Building the model</a>\n",
    "            </li>\n",
    "            <ul style=\"list-style-type: none; padding-left: 20px;\">\n",
    "                <li style=\"padding: 8px 0;\">\n",
    "                    <a href=\"#4-1\" style=\"color: #FFCC66; text-decoration: none; font-weight: normal; font-size: 16px;\">4.1 - Model Overview</a>\n",
    "                </li>\n",
    "                <li style=\"padding: 8px 0;\">\n",
    "                    <a href=\"#4-2\" style=\"color: #FFCC66; text-decoration: none; font-weight: normal; font-size: 16px;\">4.2 - Building the model</a>\n",
    "                </li>  \n",
    "            </ul>\n",
    "        </ul>\n",
    "        <ul style=\"list-style-type: none; padding-left: 0;\">\n",
    "            <li style=\"padding: 8px 0;\">\n",
    "                <a href=\"#5\" style=\"color: #FFCC66; text-decoration: none;\">5. Emojifier-V2: Using LSTMs in Keras</a>\n",
    "            </li>\n",
    "            <ul style=\"list-style-type: none; padding-left: 20px;\">\n",
    "                <li style=\"padding: 8px 0;\">\n",
    "                    <a href=\"#5-1\" style=\"color: #FFCC66; text-decoration: none; font-weight: normal; font-size: 16px;\">5.1. Model Overview</a>\n",
    "                </li>\n",
    "                <li style=\"padding: 8px 0;\">\n",
    "                    <a href=\"#5-2\" style=\"color: #FFCC66; text-decoration: none; font-weight: normal; font-size: 16px;\">5.2. The Embedding Layer</a>\n",
    "                </li>\n",
    "                <li style=\"padding: 8px 0;\">\n",
    "                    <a href=\"#5-3\" style=\"color: #FFCC66; text-decoration: none; font-weight: normal; font-size: 16px;\">5.3. Building Embedding Layer</a>\n",
    "                </li>  \n",
    "                <li style=\"padding: 8px 0;\">\n",
    "                    <a href=\"#5-4\" style=\"color: #FFCC66; text-decoration: none; font-weight: normal; font-size: 16px;\">5.4. Building the Emojifier-V2</a>\n",
    "                </li>  \n",
    "            </ul>\n",
    "        </ul>\n",
    "        <li style=\"padding: 8px 0;\">\n",
    "            <a href=\"#6\" style=\"color: #FFCC66; text-decoration: none;\">6. Conclusion</a>\n",
    "        </li>\n",
    "        <li style=\"padding: 8px 0;\">\n",
    "            <a href=\"#7\" style=\"color: #FFCC66; text-decoration: none;\">7. Key Takeaways</a>\n",
    "        </li>\n",
    "    </ul>\n",
    "</div>"
   ]
  },
  {
   "cell_type": "markdown",
   "metadata": {},
   "source": [
    "<div style=\"display: flex; flex-direction: column; align-items: center; gap: 10px; margin-bottom: 20px;\">\n",
    "    <a href=\"mailto:umermjd11@gmail.com\" target=\"_blank\"><img src=\"https://img.shields.io/badge/Email-umermjd11@gmail.com-informational?style=for-the-badge&logo=gmail&logoColor=white&color=FF5722\" alt=\"Email Shield\"></a><br><br>\n",
    "    <a href=\"https://umermjd11.github.io/\" target=\"_blank\"><img src=\"https://img.shields.io/badge/Website-umermjd11.github.com-2F2E41?style=for-the-badge&logo=google-chrome&logoColor=white\" alt=\"Website Shield\"></a><br><br>\n",
    "    <a href=\"https://github.com/umermjd11\" target=\"_blank\"><img src=\"https://img.shields.io/badge/GitHub-umermjd11-181717?style=for-the-badge&logo=github&logoColor=white\" alt=\"GitHub Shield\"></a><br><br>\n",
    "    <a href=\"https://kaggle.com/umermjd11\" target=\"_blank\"><img src=\"https://img.shields.io/badge/Kaggle-umermjd11-20BEFF?style=for-the-badge&logo=kaggle&logoColor=white\" alt=\"Kaggle Shield\"></a><br><br>\n",
    "    <a href=\"https://linkedin.com/in/umermjd11\" target=\"_blank\"><img src=\"https://img.shields.io/badge/LinkedIn-umermjd11-blue?style=for-the-badge&logo=linkedin&logoColor=white\" alt=\"LinkedIn Shield\"></a>\n",
    "</div>\n"
   ]
  },
  {
   "cell_type": "markdown",
   "metadata": {},
   "source": [
    "<a id=\"1\"></a>\n",
    "<h1 style=\"background: #FFC07F; border: 0; color: #2F2E41; \n",
    "    box-shadow: 4px 4px 8px rgba(0, 0, 0, 0.3); \n",
    "    padding: 10px; border-radius: 10px; margin: 15px 0;\">\n",
    "    <center style=\"color: #2F2E41;\">1 - Overview</center>\n",
    "</h1>"
   ]
  },
  {
   "cell_type": "markdown",
   "metadata": {},
   "source": [
    "<a id=\"1-1\"></a>\n",
    "\n",
    "## 1.1. Emojifier: Enhancing Text Expressiveness with Emoji\n",
    "\n",
    "In this notebook, we aim to explore how word vector representations can be leveraged to create an automated emojifier model that enhances the expressiveness of text messages. \n",
    "\n",
    "Consider transforming a simple message:\n",
    "> \"Congratulations on the promotion! Let's get coffee and talk. Love you!\"   \n",
    "\n",
    "into a more vibrant version:\n",
    "> \"Congratulations on the promotion! 👍 Let's get coffee and talk. ☕️ Love you! ❤️\"\n",
    "\n",
    "We develop a model that inputs a sentence (e.g., \"Let's go see the baseball game tonight!\") and outputs an emoji representing the context (⚾️).\n",
    "\n",
    "<a id=\"1-2\"></a>\n",
    "\n",
    "## 1.2. Using Word Vectors to Optimize Emoji Lookup\n",
    "\n",
    "Many emoji interfaces require exact keyword matches, such as \"heart\" for ❤️ rather than \"love.\" This limitation can hinder expressiveness. By leveraging word vectors, we can build a flexible interface that associates a wider variety of related words with appropriate emojis. For example:\n",
    "\n",
    "- Even if \"love\" is not explicitly linked to ❤️ in the training data, the model can learn to generalize based on similar words.\n",
    "- This capability allows the model to identify relevant emojis, even if specific words don't appear in the training set, facilitating accurate sentence-to-emoji mapping with limited data.\n",
    "\n",
    "<a id=\"1-3\"></a>\n",
    "\n",
    "## 1.3. Project Objectives\n",
    "\n",
    "This project involves constructing two versions of an emojifier model, each progressively more sophisticated in handling linguistic context and sentiment:\n",
    "\n",
    "1. **Emojifier-V1**: A baseline model using word embeddings.\n",
    "2. **Emojifier-V2**: An enhanced model that incorporates an LSTM for greater context sensitivity.\n",
    "\n",
    "<a id=\"1-4\"></a>\n",
    "\n",
    "## 1.4. Key Outcomes\n",
    "By the conclusion of this analysis, we will be able to:\n",
    "\n",
    "- Implement an embedding layer in Keras using pre-trained word vectors.\n",
    "- Discuss the strengths and limitations of the GloVe algorithm.\n",
    "- Explain how negative sampling facilitates efficient learning of word vectors.\n",
    "- Construct a sentiment classifier utilizing word embeddings.\n",
    "- Develop and train a context-aware classifier with an LSTM architecture.\n",
    "\n"
   ]
  },
  {
   "cell_type": "markdown",
   "metadata": {},
   "source": [
    "<a id=\"2\"></a>\n",
    "<h1 style=\"background: #FFC07F; border: 0; color: #2F2E41; \n",
    "    box-shadow: 4px 4px 8px rgba(0, 0, 0, 0.3); \n",
    "    padding: 10px; border-radius: 10px; margin: 15px 0;\">\n",
    "    <center style=\"color: #2F2E41;\">2 - Imports</center>\n",
    "</h1>"
   ]
  },
  {
   "cell_type": "code",
   "execution_count": 1,
   "metadata": {},
   "outputs": [],
   "source": [
    "%load_ext autoreload\n",
    "%autoreload 2"
   ]
  },
  {
   "cell_type": "code",
   "execution_count": 30,
   "metadata": {},
   "outputs": [],
   "source": [
    "import os\n",
    "os.environ['TF_CPP_MIN_LOG_LEVEL'] = '2' # Suppresses INFO and WARNING logs\n",
    "import numpy as np\n",
    "import matplotlib.pyplot as plt\n",
    "import emoji\n",
    "from test_utils import *\n",
    "from emo_utils import *\n",
    "\n",
    "import tensorflow as tf\n",
    "from tensorflow.keras.models import Model\n",
    "from tensorflow.keras.layers import Dense, Input, Dropout, LSTM, Activation\n",
    "from tensorflow.keras.layers import Embedding\n",
    "from tensorflow.keras.preprocessing import sequence\n",
    "from tensorflow.keras.initializers import glorot_uniform\n",
    "\n",
    "%matplotlib inline"
   ]
  },
  {
   "cell_type": "markdown",
   "metadata": {},
   "source": [
    "<a id=\"3\"></a>\n",
    "<h1 style=\"background: #FFC07F; border: 0; color: #2F2E41; \n",
    "    box-shadow: 4px 4px 8px rgba(0, 0, 0, 0.3); \n",
    "    padding: 10px; border-radius: 10px; margin: 15px 0;\">\n",
    "    <center style=\"color: #2F2E41;\">3. Baseline Model: Emojifier-V1</center>\n",
    "</h1>"
   ]
  },
  {
   "cell_type": "markdown",
   "metadata": {},
   "source": [
    "\n",
    "<a name='3-1'></a>\n",
    "\n",
    "## 3.1 - Dataset: EMOJISET\n",
    "\n",
    "In this section, we build a simple baseline classifier using the EMOJISET dataset, which provides a collection of sentences labeled with emojis.\n",
    "\n",
    "#### Dataset Details:\n",
    "- **X**: Contains 127 sentences as strings.\n",
    "- **Y**: Contains integer labels (from 0 to 4) corresponding to an emoji for each sentence.\n",
    "\n",
    "<div style=\"text-align: center;\">\n",
    "  <img src=\"https://raw.githubusercontent.com/umermjd11/DLC5M2A2/master/images/data_set.png\" style=\"width:700px;height:300px;\">\n",
    "  <br>\n",
    "  <caption>\n",
    "    <font color=\"#00796b\" style=\"font-size: 1.2em; font-weight: bold;\">\n",
    "      <b>Figure 1</b>: EMOJISET - a classification problem with 5 classes. A few examples of labeled sentences are displayed.\n",
    "    </font>\n",
    "  </caption>\n",
    "</div>\n",
    "\n",
    "We use the provided code to load the dataset, which includes 127 examples for training and 56 for testing.\n"
   ]
  },
  {
   "cell_type": "code",
   "execution_count": 3,
   "metadata": {},
   "outputs": [],
   "source": [
    "X_train, Y_train = read_csv('data/train_emoji.csv')\n",
    "X_test, Y_test = read_csv('data/tesss.csv')"
   ]
  },
  {
   "cell_type": "code",
   "execution_count": 4,
   "metadata": {},
   "outputs": [],
   "source": [
    "maxLen = len(max(X_train, key=len).split())"
   ]
  },
  {
   "cell_type": "markdown",
   "metadata": {},
   "source": [
    "To explore the dataset, we print sample sentences from `X_train` alongside their corresponding labels in `Y_train`. Adjusting the `idx` value allows us to view different examples within the training set.\n"
   ]
  },
  {
   "cell_type": "code",
   "execution_count": 5,
   "metadata": {},
   "outputs": [
    {
     "name": "stdout",
     "output_type": "stream",
     "text": [
      "never talk to me again 😞\n",
      "I am proud of your achievements 😄\n",
      "It is the worst day in my life 😞\n",
      "Miss you so much ❤️\n",
      "food is life 🍴\n",
      "I love you mum ❤️\n",
      "Stop saying bullshit 😞\n",
      "congratulations on your acceptance 😄\n",
      "The assignment is too long  😞\n",
      "I want to go play ⚾\n"
     ]
    }
   ],
   "source": [
    "for idx in range(10):\n",
    "    print(X_train[idx], label_to_emoji(Y_train[idx]))"
   ]
  },
  {
   "cell_type": "markdown",
   "metadata": {},
   "source": [
    "<a id='3-2'></a>\n",
    "\n",
    "## 3.2 - Overview of the Emojifier-V1\n",
    "\n",
    "Here, we implement a baseline model, **Emojifier-V1**, which predicts emojis based on sentence inputs.\n",
    "\n",
    "\n",
    "<div style=\"text-align: center;\">\n",
    "  <img src=\"https://raw.githubusercontent.com/umermjd11/DLC5M2A2/master/images/image_1.png\" style=\"width:900px;height:300px;\">\n",
    "  <br>\n",
    "  <caption>\n",
    "    <font color=\"#00796b\" style=\"font-size: 1.2em; font-weight: bold;\">\n",
    "      <b>Figure 2</b>:Baseline model (Emojifier-V1)\n",
    "    </font>\n",
    "  </caption>\n",
    "</div>\n",
    "\n",
    "#### Model Inputs and Outputs\n",
    "- **Input**: A string representing a sentence (e.g., \"I love you\").\n",
    "- **Output**: A probability vector of shape $(1,5)$, where each element corresponds to the probability of one of the five possible emojis.\n",
    "- The model's output is processed through an `argmax` layer, extracting the index of the emoji with the highest probability.\n"
   ]
  },
  {
   "cell_type": "markdown",
   "metadata": {},
   "source": [
    "### One-Hot Encoding\n",
    "\n",
    "To prepare the labels for training with a softmax classifier, we convert $Y$ from its current shape $(m, 1)$ into a \"one-hot representation\" of shape $(m, 5)$. \n",
    "\n",
    "- Each row in the resulting matrix is a one-hot vector representing the label for a single example.\n",
    "- We denote these one-hot encoded variables as `Y_oh_train` and `Y_oh_test`, where `Y_oh` stands for \"Y-one-hot.\"\n"
   ]
  },
  {
   "cell_type": "code",
   "execution_count": 6,
   "metadata": {},
   "outputs": [],
   "source": [
    "Y_oh_train = convert_to_one_hot(Y_train, C = 5)\n",
    "Y_oh_test = convert_to_one_hot(Y_test, C = 5)"
   ]
  },
  {
   "cell_type": "markdown",
   "metadata": {},
   "source": [
    "We can now examine the effect of `convert_to_one_hot()` on the labels. By adjusting the `index` value, we can print different examples and observe their one-hot encoded representations.\n"
   ]
  },
  {
   "cell_type": "code",
   "execution_count": 7,
   "metadata": {},
   "outputs": [
    {
     "name": "stdout",
     "output_type": "stream",
     "text": [
      "Sentence 'I missed you' has label index 0, which is emoji ❤️\n",
      "Label index 0 in one-hot encoding format is [1. 0. 0. 0. 0.]\n"
     ]
    }
   ],
   "source": [
    "idx = 50\n",
    "print(f\"Sentence '{X_train[50]}' has label index {Y_train[idx]}, which is emoji {label_to_emoji(Y_train[idx])}\", )\n",
    "print(f\"Label index {Y_train[idx]} in one-hot encoding format is {Y_oh_train[idx]}\")"
   ]
  },
  {
   "cell_type": "markdown",
   "metadata": {},
   "source": [
    "With the data preprocessed and one-hot encoded, we are prepared to proceed with implementing the **Emojifier-V1** model. This baseline model will utilize the prepared data to predict the most appropriate emoji for each input sentence.\n"
   ]
  },
  {
   "cell_type": "markdown",
   "metadata": {},
   "source": [
    "<a id='3-3'></a>\n",
    "\n",
    "## 3.3 - Implementing Emojifier-V1\n",
    "\n",
    "Following the approach in Figure 2, we start by:\n",
    "1. Converting each word in the input sentence into its corresponding word vector representation.\n",
    "2. Calculating the average of these word vectors to represent the sentence as a whole.\n",
    "\n",
    "We use the pre-trained 50-dimensional GloVe embeddings to achieve this. The cell below loads `word_to_vec_map`, which provides access to all necessary vector representations.\n"
   ]
  },
  {
   "cell_type": "code",
   "execution_count": 8,
   "metadata": {},
   "outputs": [],
   "source": [
    "word_to_index, index_to_word, word_to_vec_map = read_glove_vecs('data/glove.6B.50d.txt')"
   ]
  },
  {
   "cell_type": "markdown",
   "metadata": {},
   "source": [
    "The following items have been loaded:\n",
    "\n",
    "- **`word_to_index`**: A dictionary mapping words to their corresponding indices in the vocabulary. \n",
    "    - This vocabulary contains 400,001 words, with valid indices ranging from 0 to 400,000.\n",
    "- **`index_to_word`**: A dictionary mapping indices to their respective words in the vocabulary.\n",
    "- **`word_to_vec_map`**: A dictionary mapping words to their 50-dimensional GloVe vector representations.\n",
    "\n",
    "we run the cell below to confirm that these mappings are functioning as expected.\n"
   ]
  },
  {
   "cell_type": "code",
   "execution_count": 9,
   "metadata": {},
   "outputs": [
    {
     "name": "stdout",
     "output_type": "stream",
     "text": [
      "the index of cucumber in the vocabulary is 113318\n",
      "the 289846th word in the vocabulary is potatoes\n"
     ]
    }
   ],
   "source": [
    "word = \"cucumber\"\n",
    "idx = 289846\n",
    "print(\"the index of\", word, \"in the vocabulary is\", word_to_index[word])\n",
    "print(\"the\", str(idx) + \"th word in the vocabulary is\", index_to_word[idx])"
   ]
  },
  {
   "cell_type": "markdown",
   "metadata": {},
   "source": [
    "\n",
    "### Implementing `sentence_to_avg`\n",
    "\n",
    "The function `sentence_to_avg()` performs the following:\n",
    "\n",
    "1. **Convert Sentence to Words**: Convert the sentence to lower case and split it into a list of words. This can be done using `X.lower()` and `X.split()`.\n",
    "\n",
    "2. **Average Word Vectors**: For each word in the sentence, retrieve its corresponding GloVe representation from `word_to_vec_map`. Calculate the average of all word vectors to represent the sentence.\n",
    "\n",
    "#### Additional Tips\n",
    "- Use `numpy.zeros()` to create an array of zeros for accumulating the word vectors. Ensure that this array has the same shape as the word vectors in `word_to_vec_map`. \n",
    "    - To dynamically determine the shape, retrieve the shape of any word vector in `word_to_vec_map`. This approach avoids hard-coding dimensions, ensuring compatibility across different datasets.\n"
   ]
  },
  {
   "cell_type": "code",
   "execution_count": 10,
   "metadata": {},
   "outputs": [],
   "source": [
    "def sentence_to_avg(sentence, word_to_vec_map):\n",
    "    \"\"\"\n",
    "    Converts a sentence (string) into a list of words (strings), extracts the GloVe representation of each word,\n",
    "    and averages these vectors to create a single vector that encodes the overall meaning of the sentence.\n",
    "    \n",
    "    Arguments:\n",
    "    sentence -- string, one training example from X\n",
    "    word_to_vec_map -- dictionary mapping each word in the vocabulary to its 50-dimensional vector representation\n",
    "    \n",
    "    Returns:\n",
    "    avg -- average vector encoding information about the sentence, numpy array of shape (50,)\n",
    "    \"\"\"\n",
    "    \n",
    "    # Get the shape of any word vector as reference (assuming all vectors are the same size)\n",
    "    vector_dim = word_to_vec_map[next(iter(word_to_vec_map))].shape[0]\n",
    "    \n",
    "    \n",
    "    # Step 1: Split the sentence into a list of lowercase words\n",
    "    words = sentence.lower().split()\n",
    "    \n",
    "    # Initialize the average vector with zeros, matching the vector dimension\n",
    "    avg = np.zeros(vector_dim)\n",
    "    \n",
    "    # Initialize count for valid words in the word_to_vec_map\n",
    "    count = 0\n",
    "    \n",
    "    # Step 2: Compute the sum of word vectors in the sentence\n",
    "    for w in words:\n",
    "        # Check if the word exists in word_to_vec_map\n",
    "        if w in word_to_vec_map:\n",
    "            avg += word_to_vec_map[w]\n",
    "            count += 1  # Increment count for each valid word vector added\n",
    "    \n",
    "    # Step 3: Compute the average only if count > 0 to avoid division by zero\n",
    "    if count > 0:\n",
    "        avg /= count\n",
    "    \n",
    "    \n",
    "    return avg\n"
   ]
  },
  {
   "cell_type": "code",
   "execution_count": 11,
   "metadata": {},
   "outputs": [
    {
     "name": "stdout",
     "output_type": "stream",
     "text": [
      "avg = \n",
      " [-0.008005    0.56370833 -0.50427333  0.258865    0.55131103  0.03104983\n",
      " -0.21013718  0.16893933 -0.09590267  0.141784   -0.15708967  0.18525867\n",
      "  0.6495785   0.38371117  0.21102167  0.11301667  0.02613967  0.26037767\n",
      "  0.05820667 -0.01578167 -0.12078833 -0.02471267  0.4128455   0.5152061\n",
      "  0.38756167 -0.898661   -0.535145    0.33501167  0.68806933 -0.2156265\n",
      "  1.797155    0.10476933 -0.36775333  0.750785    0.10282583  0.348925\n",
      " -0.27262833  0.66768    -0.10706167 -0.283635    0.59580117  0.28747333\n",
      " -0.3366635   0.23393817  0.34349183  0.178405    0.1166155  -0.076433\n",
      "  0.1445417   0.09808667]\n",
      "\u001b[92mAll tests passed!\n"
     ]
    }
   ],
   "source": [
    "# BEGIN UNIT TEST\n",
    "avg = sentence_to_avg(\"Morrocan couscous is my favorite dish\", word_to_vec_map)\n",
    "print(\"avg = \\n\", avg)\n",
    "\n",
    "def sentence_to_avg_test(target):\n",
    "    # Create a controlled word to vec map\n",
    "    word_to_vec_map = {'a': [3, 3], 'synonym_of_a': [3, 3], 'a_nw': [2, 4], 'a_s': [3, 2], \n",
    "                       'c': [-2, 1], 'c_n': [-2, 2],'c_ne': [-1, 2], 'c_e': [-1, 1], 'c_se': [-1, 0], \n",
    "                       'c_s': [-2, 0], 'c_sw': [-3, 0], 'c_w': [-3, 1], 'c_nw': [-3, 2]\n",
    "                      }\n",
    "    # Convert lists to np.arrays\n",
    "    for key in word_to_vec_map.keys():\n",
    "        word_to_vec_map[key] = np.array(word_to_vec_map[key])\n",
    "        \n",
    "    avg = target(\"a a_nw c_w a_s\", word_to_vec_map)\n",
    "    assert tuple(avg.shape) == tuple(word_to_vec_map['a'].shape),  \"Check the shape of your avg array\"  \n",
    "    assert np.allclose(avg, [1.25, 2.5]),  \"Check that you are finding the 4 words\"\n",
    "    avg = target(\"love a a_nw c_w a_s\", word_to_vec_map)\n",
    "    assert np.allclose(avg, [1.25, 2.5]), \"Divide by count, not len(words)\"\n",
    "    avg = target(\"love\", word_to_vec_map)\n",
    "    assert np.allclose(avg, [0, 0]), \"Average of no words must give an array of zeros\"\n",
    "    avg = target(\"c_se foo a a_nw c_w a_s deeplearning c_nw\", word_to_vec_map)\n",
    "    assert np.allclose(avg, [0.1666667, 2.0]), \"Debug the last example\"\n",
    "    \n",
    "    print(\"\\033[92mAll tests passed!\")\n",
    "    \n",
    "sentence_to_avg_test(sentence_to_avg)\n",
    "\n",
    "# END UNIT TEST"
   ]
  },
  {
   "cell_type": "markdown",
   "metadata": {},
   "source": [
    "<a name='3-3-1'></a>\n",
    "### Implementing the Model\n",
    "\n",
    "With all components ready, we can now complete the `model()` function. This function will:\n",
    "\n",
    "1. Use `sentence_to_avg()` to compute the average word vector representation for each sentence.\n",
    "2. Perform forward propagation using the following steps:\n",
    "    - Pass the average word vector through the linear transformation to calculate $z^{(i)}$.\n",
    "    - Apply the softmax activation to obtain $a^{(i)}$, representing the predicted probabilities.\n",
    "3. Compute the cross-entropy cost.\n",
    "4. Use backpropagation to update the softmax parameters.\n",
    "\n",
    "The necessary equations for the forward pass and cross-entropy cost are as follows:\n",
    "\n",
    "$$ z^{(i)} = W \\cdot avg^{(i)} + b $$\n",
    "\n",
    "$$ a^{(i)} = softmax(z^{(i)}) $$\n",
    "\n",
    "$$ \\mathcal{L}^{(i)} = - \\sum_{k = 0}^{n_y - 1} Y_{oh,k}^{(i)} \\cdot \\log(a^{(i)}_k) $$\n",
    "\n",
    "\n",
    "The `softmax()` function is already provided and imported for use in this implementation.\n"
   ]
  },
  {
   "cell_type": "code",
   "execution_count": 18,
   "metadata": {},
   "outputs": [],
   "source": [
    "def model(X, Y, word_to_vec_map, learning_rate=0.01, num_iterations=300):\n",
    "    \"\"\"\n",
    "    Model to train word vector representations in numpy.\n",
    "    \n",
    "    Arguments:\n",
    "    X -- input data, numpy array of sentences as strings, of shape (m, 1)\n",
    "    Y -- labels, numpy array of integers between 0 and 7, numpy-array of shape (m, 1)\n",
    "    word_to_vec_map -- dictionary mapping every word in a vocabulary into its 50-dimensional vector representation\n",
    "    learning_rate -- learning rate for the stochastic gradient descent algorithm\n",
    "    num_iterations -- number of iterations\n",
    "    \n",
    "    Returns:\n",
    "    pred -- vector of predictions, numpy-array of shape (m, 1)\n",
    "    W -- weight matrix of the softmax layer, of shape (n_y, n_h)\n",
    "    b -- bias of the softmax layer, of shape (n_y,)\n",
    "    \"\"\"\n",
    "    \n",
    "    # Get the shape of any word vector for initializing parameters\n",
    "    n_h = word_to_vec_map[next(iter(word_to_vec_map))].shape[0]\n",
    "    n_y = len(np.unique(Y))  # number of classes\n",
    "    m = Y.shape[0]           # number of training examples\n",
    "    \n",
    "    # Initialize parameters using Xavier initialization\n",
    "    W = np.random.randn(n_y, n_h) / np.sqrt(n_h)\n",
    "    b = np.zeros((n_y,))\n",
    "    \n",
    "    # Convert Y to one-hot representation\n",
    "    Y_oh = convert_to_one_hot(Y, C=n_y) \n",
    "    \n",
    "    # Optimization loop\n",
    "    for t in range(num_iterations):  # Loop over the number of epochs\n",
    "        cost = 0  # Reset cost for each epoch\n",
    "\n",
    "        for i in range(m):  # Loop over each training example\n",
    "            \n",
    "            # Step 1: Get the average word vector for the sentence\n",
    "            avg = sentence_to_avg(X[i], word_to_vec_map)\n",
    "\n",
    "            # Step 2: Forward propagation\n",
    "            z = np.dot(W, avg) + b  # Compute the linear activation\n",
    "            a = softmax(z)          # Apply the softmax function\n",
    "            \n",
    "            # Step 3: Compute the cost for the i-th example\n",
    "            cost += -np.sum(Y_oh[i] * np.log(a))  # Accumulate cost\n",
    "            \n",
    "            # Step 4: Backpropagation\n",
    "            dz = a - Y_oh[i]                     # Gradient of the cost with respect to z\n",
    "            dW = np.dot(dz.reshape(n_y, 1), avg.reshape(1, n_h))  # Compute dW\n",
    "            db = dz                              # Compute db\n",
    "\n",
    "            # Step 5: Parameter update\n",
    "            W -= learning_rate * dW\n",
    "            b -= learning_rate * db\n",
    "        \n",
    "        # Average cost for this epoch\n",
    "        cost /= m\n",
    "        \n",
    "        # Print the cost every 10 epochs\n",
    "        if t % 10 == 0:\n",
    "            print(f\"Epoch: {t} --- cost = {cost:.4f}\")\n",
    "            pred = predict(X, Y, W, b, word_to_vec_map)  # Predict using the current parameters\n",
    "\n",
    "    return pred, W, b"
   ]
  },
  {
   "cell_type": "code",
   "execution_count": 19,
   "metadata": {},
   "outputs": [
    {
     "name": "stdout",
     "output_type": "stream",
     "text": [
      "Epoch: 0 --- cost = 0.2191\n",
      "Accuracy: 0.9166666666666666\n",
      "Epoch: 10 --- cost = 0.1827\n",
      "Accuracy: 0.9166666666666666\n",
      "Epoch: 20 --- cost = 0.1555\n",
      "Accuracy: 0.9166666666666666\n",
      "Epoch: 30 --- cost = 0.1351\n",
      "Accuracy: 0.9166666666666666\n",
      "Epoch: 40 --- cost = 0.1198\n",
      "Accuracy: 0.9166666666666666\n",
      "Epoch: 50 --- cost = 0.1082\n",
      "Accuracy: 0.9166666666666666\n",
      "Epoch: 60 --- cost = 0.0993\n",
      "Accuracy: 0.9166666666666666\n",
      "Epoch: 70 --- cost = 0.0925\n",
      "Accuracy: 1.0\n",
      "Epoch: 80 --- cost = 0.0872\n",
      "Accuracy: 1.0\n",
      "Epoch: 90 --- cost = 0.0829\n",
      "Accuracy: 1.0\n",
      "Epoch: 100 --- cost = 0.0794\n",
      "Accuracy: 1.0\n",
      "\u001b[92mAll tests passed!\n"
     ]
    }
   ],
   "source": [
    "# UNIT TEST\n",
    "def model_test(target):\n",
    "    # Create a controlled word to vec map\n",
    "    word_to_vec_map = {'a': [3, 3], 'synonym_of_a': [3, 3], 'a_nw': [2, 4], 'a_s': [3, 2], 'a_n': [3, 4], \n",
    "                       'c': [-2, 1], 'c_n': [-2, 2],'c_ne': [-1, 2], 'c_e': [-1, 1], 'c_se': [-1, 0], \n",
    "                       'c_s': [-2, 0], 'c_sw': [-3, 0], 'c_w': [-3, 1], 'c_nw': [-3, 2]\n",
    "                      }\n",
    "    # Convert lists to np.arrays\n",
    "    for key in word_to_vec_map.keys():\n",
    "        word_to_vec_map[key] = np.array(word_to_vec_map[key])\n",
    "        \n",
    "    # Training set. Sentences composed of a_* words will be of class 0 and sentences composed of c_* words will be of class 1\n",
    "    X = np.asarray(['a a_s synonym_of_a a_n c_sw', 'a a_s a_n c_sw', 'a_s  a a_n', 'synonym_of_a a a_s a_n c_sw', \" a_s a_n\",\n",
    "                    \" a a_s a_n c \", \" a_n  a c c c_e\",\n",
    "                   'c c_nw c_n c c_ne', 'c_e c c_se c_s', 'c_nw c a_s c_e c_e', 'c_e a_nw c_sw', 'c_sw c c_ne c_ne'])\n",
    "    \n",
    "    Y = np.asarray([0, 0, 0, 0, 0, 0, 1, 1, 1, 1, 1, 1])\n",
    "    \n",
    "    np.random.seed(10)\n",
    "    pred, W, b = model(X, Y, word_to_vec_map, 0.0025, 110)\n",
    "    \n",
    "    assert W.shape == (2, 2), \"W must be of shape 2 x 2\"\n",
    "    assert np.allclose(pred.transpose(), Y), \"Model must give a perfect accuracy\"\n",
    "    assert np.allclose(b[0], -1 * b[1]), \"b should be symmetric in this example\"\n",
    "    \n",
    "    print(\"\\033[92mAll tests passed!\")\n",
    "    \n",
    "model_test(model)"
   ]
  },
  {
   "cell_type": "markdown",
   "metadata": {},
   "source": []
  },
  {
   "cell_type": "markdown",
   "metadata": {},
   "source": [
    "<a id='3-4'></a>\n",
    "\n",
    "## 3.4. Train Emojifier-V1\n",
    "\n",
    "Running the cell below will train the model and optimizes the softmax parameters, \\( W \\) and \\( b \\).\n"
   ]
  },
  {
   "cell_type": "code",
   "execution_count": 21,
   "metadata": {},
   "outputs": [
    {
     "name": "stdout",
     "output_type": "stream",
     "text": [
      "Epoch: 0 --- cost = 1.6462\n",
      "Accuracy: 0.3484848484848485\n",
      "Epoch: 10 --- cost = 0.9573\n",
      "Accuracy: 0.7272727272727273\n",
      "Epoch: 20 --- cost = 0.7608\n",
      "Accuracy: 0.803030303030303\n"
     ]
    },
    {
     "name": "stdout",
     "output_type": "stream",
     "text": [
      "Epoch: 30 --- cost = 0.6561\n",
      "Accuracy: 0.803030303030303\n",
      "Epoch: 40 --- cost = 0.5869\n",
      "Accuracy: 0.8257575757575758\n",
      "Epoch: 50 --- cost = 0.5362\n",
      "Accuracy: 0.8560606060606061\n",
      "Epoch: 60 --- cost = 0.4967\n",
      "Accuracy: 0.8787878787878788\n",
      "Epoch: 70 --- cost = 0.4649\n",
      "Accuracy: 0.8939393939393939\n",
      "Epoch: 80 --- cost = 0.4384\n",
      "Accuracy: 0.9090909090909091\n",
      "Epoch: 90 --- cost = 0.4161\n",
      "Accuracy: 0.9242424242424242\n",
      "Epoch: 100 --- cost = 0.3968\n",
      "Accuracy: 0.9318181818181818\n",
      "Epoch: 110 --- cost = 0.3800\n",
      "Accuracy: 0.9318181818181818\n",
      "Epoch: 120 --- cost = 0.3652\n",
      "Accuracy: 0.9318181818181818\n",
      "Epoch: 130 --- cost = 0.3520\n",
      "Accuracy: 0.9318181818181818\n",
      "Epoch: 140 --- cost = 0.3401\n",
      "Accuracy: 0.9393939393939394\n",
      "Epoch: 150 --- cost = 0.3294\n",
      "Accuracy: 0.9393939393939394\n",
      "Epoch: 160 --- cost = 0.3196\n",
      "Accuracy: 0.9393939393939394\n",
      "Epoch: 170 --- cost = 0.3107\n",
      "Accuracy: 0.9393939393939394\n",
      "Epoch: 180 --- cost = 0.3025\n",
      "Accuracy: 0.946969696969697\n",
      "Epoch: 190 --- cost = 0.2949\n",
      "Accuracy: 0.9545454545454546\n",
      "Epoch: 200 --- cost = 0.2879\n",
      "Accuracy: 0.9545454545454546\n",
      "Epoch: 210 --- cost = 0.2813\n",
      "Accuracy: 0.9621212121212122\n",
      "Epoch: 220 --- cost = 0.2752\n",
      "Accuracy: 0.9621212121212122\n",
      "Epoch: 230 --- cost = 0.2694\n",
      "Accuracy: 0.9621212121212122\n",
      "Epoch: 240 --- cost = 0.2640\n",
      "Accuracy: 0.9621212121212122\n",
      "Epoch: 250 --- cost = 0.2589\n",
      "Accuracy: 0.9696969696969697\n",
      "Epoch: 260 --- cost = 0.2541\n",
      "Accuracy: 0.9696969696969697\n",
      "Epoch: 270 --- cost = 0.2496\n",
      "Accuracy: 0.9696969696969697\n",
      "Epoch: 280 --- cost = 0.2452\n",
      "Accuracy: 0.9696969696969697\n",
      "Epoch: 290 --- cost = 0.2411\n",
      "Accuracy: 0.9696969696969697\n",
      "[[3.]\n",
      " [2.]\n",
      " [3.]\n",
      " [0.]\n",
      " [4.]\n",
      " [0.]\n",
      " [3.]\n",
      " [2.]\n",
      " [3.]\n",
      " [1.]\n",
      " [3.]\n",
      " [3.]\n",
      " [1.]\n",
      " [3.]\n",
      " [2.]\n",
      " [3.]\n",
      " [2.]\n",
      " [3.]\n",
      " [1.]\n",
      " [2.]\n",
      " [3.]\n",
      " [0.]\n",
      " [2.]\n",
      " [2.]\n",
      " [2.]\n",
      " [1.]\n",
      " [4.]\n",
      " [3.]\n",
      " [3.]\n",
      " [4.]\n",
      " [0.]\n",
      " [3.]\n",
      " [4.]\n",
      " [2.]\n",
      " [0.]\n",
      " [3.]\n",
      " [2.]\n",
      " [2.]\n",
      " [3.]\n",
      " [4.]\n",
      " [2.]\n",
      " [2.]\n",
      " [0.]\n",
      " [2.]\n",
      " [3.]\n",
      " [0.]\n",
      " [3.]\n",
      " [2.]\n",
      " [4.]\n",
      " [3.]\n",
      " [0.]\n",
      " [3.]\n",
      " [3.]\n",
      " [3.]\n",
      " [4.]\n",
      " [2.]\n",
      " [1.]\n",
      " [1.]\n",
      " [1.]\n",
      " [2.]\n",
      " [3.]\n",
      " [1.]\n",
      " [0.]\n",
      " [0.]\n",
      " [0.]\n",
      " [3.]\n",
      " [4.]\n",
      " [4.]\n",
      " [2.]\n",
      " [2.]\n",
      " [1.]\n",
      " [2.]\n",
      " [0.]\n",
      " [3.]\n",
      " [2.]\n",
      " [2.]\n",
      " [0.]\n",
      " [3.]\n",
      " [3.]\n",
      " [1.]\n",
      " [2.]\n",
      " [1.]\n",
      " [2.]\n",
      " [2.]\n",
      " [4.]\n",
      " [3.]\n",
      " [3.]\n",
      " [2.]\n",
      " [4.]\n",
      " [0.]\n",
      " [0.]\n",
      " [3.]\n",
      " [3.]\n",
      " [3.]\n",
      " [3.]\n",
      " [2.]\n",
      " [0.]\n",
      " [1.]\n",
      " [2.]\n",
      " [3.]\n",
      " [0.]\n",
      " [2.]\n",
      " [2.]\n",
      " [2.]\n",
      " [3.]\n",
      " [2.]\n",
      " [2.]\n",
      " [2.]\n",
      " [4.]\n",
      " [1.]\n",
      " [1.]\n",
      " [3.]\n",
      " [3.]\n",
      " [4.]\n",
      " [1.]\n",
      " [2.]\n",
      " [1.]\n",
      " [1.]\n",
      " [3.]\n",
      " [1.]\n",
      " [0.]\n",
      " [4.]\n",
      " [0.]\n",
      " [3.]\n",
      " [3.]\n",
      " [4.]\n",
      " [4.]\n",
      " [1.]\n",
      " [4.]\n",
      " [3.]\n",
      " [0.]\n",
      " [2.]]\n"
     ]
    }
   ],
   "source": [
    "np.random.seed(1)\n",
    "pred, W, b = model(X_train, Y_train, word_to_vec_map)\n",
    "print(pred)"
   ]
  },
  {
   "cell_type": "markdown",
   "metadata": {},
   "source": [
    "<a id='3-5'></a>\n",
    "\n",
    "## 3.5. Examining Test Set Performance - Emojifier-V1"
   ]
  },
  {
   "cell_type": "code",
   "execution_count": 22,
   "metadata": {},
   "outputs": [
    {
     "name": "stdout",
     "output_type": "stream",
     "text": [
      "Training set:\n",
      "Accuracy: 0.9696969696969697\n",
      "Test set:\n",
      "Accuracy: 0.8571428571428571\n"
     ]
    }
   ],
   "source": [
    "print(\"Training set:\")\n",
    "pred_train = predict(X_train, Y_train, W, b, word_to_vec_map)\n",
    "print('Test set:')\n",
    "pred_test = predict(X_test, Y_test, W, b, word_to_vec_map)"
   ]
  },
  {
   "cell_type": "code",
   "execution_count": 25,
   "metadata": {},
   "outputs": [],
   "source": [
    "def predict_single(sentence, W, b, word_to_vec_map):\n",
    "    \"\"\"\n",
    "    Predicts the emoji class for a given sentence using the trained model parameters W and b.\n",
    "    \n",
    "    Arguments:\n",
    "    sentence -- string, input sentence to be classified\n",
    "    W -- weight matrix of the softmax layer, of shape (n_y, n_h)\n",
    "    b -- bias vector of the softmax layer, of shape (n_y,)\n",
    "    word_to_vec_map -- dictionary mapping words to their GloVe vector representation\n",
    "    \n",
    "    Returns:\n",
    "    pred -- integer, predicted emoji index for the sentence\n",
    "    \"\"\"\n",
    "    \n",
    "    # Dimension of the GloVe word vectors\n",
    "    n_h = word_to_vec_map[next(iter(word_to_vec_map))].shape[0]\n",
    "        \n",
    "    # Split sentence into words and initialize the average vector\n",
    "    words = sentence.lower().split()\n",
    "    avg = np.zeros(n_h)\n",
    "    \n",
    "    # Sum word vectors for words in the sentence that are in the vocabulary\n",
    "    count = 0\n",
    "    for w in words:\n",
    "        if w in word_to_vec_map:\n",
    "            avg += word_to_vec_map[w]\n",
    "            count += 1\n",
    "\n",
    "    # Avoid division by zero by averaging only if count > 0\n",
    "    if count > 0:\n",
    "        avg /= count\n",
    "\n",
    "    # Forward propagation through the softmax layer\n",
    "    Z = np.dot(W, avg) + b\n",
    "    A = softmax(Z)\n",
    "    \n",
    "    # Prediction: index of the highest probability\n",
    "    pred = np.argmax(A)\n",
    "        \n",
    "    return pred\n"
   ]
  },
  {
   "cell_type": "code",
   "execution_count": 27,
   "metadata": {},
   "outputs": [
    {
     "data": {
      "text/plain": [
       "'❤️'"
      ]
     },
     "execution_count": 27,
     "metadata": {},
     "output_type": "execute_result"
    }
   ],
   "source": [
    "label_to_emoji(int(predict_single(\"I love you\", W, b, word_to_vec_map )))\n"
   ]
  },
  {
   "cell_type": "markdown",
   "metadata": {},
   "source": [
    "**Note**:\n",
    "- Given five classes, random guessing would yield a baseline accuracy of 20% (1/5).\n",
    "- Achieving higher accuracy with only 127 training examples indicates promising performance.\n",
    "\n",
    "#### The Model's Ability to Generalize\n",
    "In the training set, the model encountered the sentence:\n",
    ">\"I love you.\"\n",
    "\n",
    "with the emoji label ❤️. While the word \"adore\" does not appear in the training set, let's test the model by using the sentence:\n",
    ">\"I adore you.\"\n",
    "\n",
    "This will allow us to see how well the model generalizes to similar words it has not explicitly encountered.\n"
   ]
  },
  {
   "cell_type": "code",
   "execution_count": 28,
   "metadata": {},
   "outputs": [
    {
     "name": "stdout",
     "output_type": "stream",
     "text": [
      "Accuracy: 0.8333333333333334\n",
      "\n",
      "i adore you ❤️\n",
      "i love you ❤️\n",
      "funny lol 😄\n",
      "lets play with a ball ⚾\n",
      "food is ready 🍴\n",
      "not feeling happy 😄\n"
     ]
    }
   ],
   "source": [
    "X_my_sentences = np.array([\"i adore you\", \"i love you\", \"funny lol\", \"lets play with a ball\", \"food is ready\", \"not feeling happy\"])\n",
    "Y_my_labels = np.array([[0], [0], [2], [1], [4],[3]])\n",
    "\n",
    "pred = predict(X_my_sentences, Y_my_labels , W, b, word_to_vec_map)\n",
    "print_predictions(X_my_sentences, pred)"
   ]
  },
  {
   "cell_type": "markdown",
   "metadata": {},
   "source": [
    "The model has demonstrated an impressive ability to generalize by correctly associating words with similar embeddings. For example:\n",
    "\n",
    "- The model correctly matched *adore* with ❤️, even though *adore* did not appear in the training set.\n",
    "- Words like *heart*, *dear*, *beloved*, and *adore* have embeddings similar to *love*, allowing the model to make intuitive predictions.\n",
    "\n",
    "\n",
    "#### Limitations of the Model: Lack of Word Order Awareness\n",
    "One limitation is that this model does not consider word ordering. For example, it may misinterpret:\n",
    ">\"not feeling happy\"\n",
    "\n",
    "Without an understanding of word order, it cannot effectively differentiate phrases like \"not happy\" from \"happy.\"\n",
    "\n",
    "#### Analyzing Performance with a Confusion Matrix\n",
    "A confusion matrix provides insights into which classes the model confuses most frequently. This matrix helps reveal patterns where the algorithm misclassifies the \"actual\" class as a different \"predicted\" class.\n",
    "\n",
    "Print the confusion matrix in the cell below:\n"
   ]
  },
  {
   "cell_type": "code",
   "execution_count": 29,
   "metadata": {},
   "outputs": [
    {
     "name": "stdout",
     "output_type": "stream",
     "text": [
      "(56,)\n",
      "           ❤️    ⚾    😄    😞   🍴\n",
      "Predicted  0.0  1.0  2.0  3.0  4.0  All\n",
      "Actual                                 \n",
      "0            6    0    0    1    0    7\n",
      "1            0    8    0    0    0    8\n",
      "2            2    0   16    0    0   18\n",
      "3            1    1    2   12    0   16\n",
      "4            0    0    1    0    6    7\n",
      "All          9    9   19   13    6   56\n"
     ]
    },
    {
     "data": {
      "image/png": "[encoded data removed]",
      "text/plain": [
       "<Figure size 480x480 with 2 Axes>"
      ]
     },
     "metadata": {},
     "output_type": "display_data"
    }
   ],
   "source": [
    "print(Y_test.shape)\n",
    "print('           '+ label_to_emoji(0)+ '    ' + label_to_emoji(1) + '    ' +  label_to_emoji(2)+ '    ' + label_to_emoji(3)+'   ' + label_to_emoji(4))\n",
    "print(pd.crosstab(Y_test, pred_test.reshape(56,), rownames=['Actual'], colnames=['Predicted'], margins=True))\n",
    "plot_confusion_matrix(Y_test, pred_test)"
   ]
  },
  {
   "cell_type": "markdown",
   "metadata": {},
   "source": [
    "<font color='blue'><b>Key Takeaways:</b>\n",
    "\n",
    "- With just 127 training examples, the model achieves a respectable performance due to the strong generalization capabilities of word vectors.\n",
    "- **Limitations of Emojify-V1**:\n",
    "    - This model struggles with sentences like *\"This movie is not good and not enjoyable\"* because it lacks an understanding of word combinations and negations.\n",
    "    - Averaging word embeddings disregards word order, which limits the model's ability to capture nuances in sentence structure.\n",
    "</font>\n",
    "\n",
    "**Next Steps**: In the following section, we will build an enhanced algorithm to address these limitations!\n"
   ]
  },
  {
   "cell_type": "markdown",
   "metadata": {},
   "source": [
    "<a id=\"5\"></a>\n",
    "<h1 style=\"background: #FFC07F; border: 0; color: #2F2E41; \n",
    "    box-shadow: 4px 4px 8px rgba(0, 0, 0, 0.3); \n",
    "    padding: 10px; border-radius: 10px; margin: 15px 0;\">\n",
    "    <center style=\"color: #2F2E41;\">5. Emojifier-V2: Using LSTMs in Keras</center>\n",
    "</h1>"
   ]
  },
  {
   "cell_type": "markdown",
   "metadata": {},
   "source": [
    "\n",
    "\n",
    "In this section, we will build an LSTM-based model that processes word **sequences** as input. Unlike the previous model, this LSTM-based Emojifier-V2 can account for word ordering within sentences.\n",
    "\n",
    "This model will still utilize pre-trained word embeddings for representing words. We will feed these embeddings into an LSTM, allowing it to learn and predict the most appropriate emoji based on sequential word patterns.\n"
   ]
  },
  {
   "cell_type": "code",
   "execution_count": 31,
   "metadata": {},
   "outputs": [],
   "source": [
    "np.random.seed(1)"
   ]
  },
  {
   "cell_type": "markdown",
   "metadata": {},
   "source": [
    "<a id='5-1'></a>\n",
    "\n",
    "## 5.1. Model Overview\n",
    "\n",
    "The following is the structure of the Emojifier-V2 model we will implement:\n",
    "\n",
    "<div style=\"text-align: center;\">\n",
    "  <img src=\"https://raw.githubusercontent.com/umermjd11/DLC5M2A2/master/images/emojifier-v2.png\" style=\"width:700px;height:400px;\">\n",
    "  <br>\n",
    "  <caption>\n",
    "    <font color=\"#00796b\" style=\"font-size: 1.2em; font-weight: bold;\">\n",
    "      <b>Figure 3</b>: Emojifier-V2 - A 2-layer LSTM sequence classifier.\n",
    "    </font>\n",
    "  </caption>\n",
    "</div>"
   ]
  },
  {
   "cell_type": "markdown",
   "metadata": {},
   "source": [
    "\n",
    "### Keras and Mini-batching\n",
    "\n",
    "For efficient training in Keras, mini-batching is essential. However, deep learning frameworks typically require all sequences within a mini-batch to have the **same length** to facilitate vectorized operations. Without consistent sequence lengths, it would be impossible to process sentences of varying lengths in parallel.\n",
    "\n",
    "#### Solution: Padding Sequences to a Uniform Length\n",
    "To manage sequences of **different lengths**, we employ padding:\n",
    "- Define a maximum sequence length.\n",
    "- Pad shorter sequences with \"0\"s to ensure every input sequence reaches the maximum length.\n",
    "\n",
    "#### Padding Example:\n",
    "Assuming a maximum sequence length of 20, each input sentence would be represented with padding as needed:\n",
    "- For instance, \"I love you\" could be represented as $(e_{I}, e_{love}, e_{you}, \\vec{0}, \\vec{0}, \\ldots, \\vec{0})$.\n",
    "- Sentences longer than the chosen length would be truncated.\n",
    "\n",
    "To set the maximum length, one approach is to match it to the longest sentence in the training set.\n"
   ]
  },
  {
   "cell_type": "markdown",
   "metadata": {},
   "source": [
    "<a id='5-2'></a>\n",
    "\n",
    "## 5.2. The Embedding Layer\n",
    "\n",
    "In Keras, the embedding matrix is implemented as an \"Embedding\" layer.\n",
    "\n",
    "- The embedding matrix maps word indices (positive integers) to fixed-size dense vectors.\n",
    "    - A dense vector has mostly non-zero values, as opposed to sparse representations like one-hot vectors.\n",
    "- There are two main ways to obtain embeddings:\n",
    "    - Train embeddings from scratch.\n",
    "    - Use a pre-trained embedding matrix, such as GloVe.\n",
    "\n",
    "### Leveraging Pre-trained Embeddings\n",
    "In this section, we will create an [Embedding](https://www.tensorflow.org/api_docs/python/tf/keras/layers/Embedding) layer in Keras:\n",
    "\n",
    "- We will initialize this layer with GloVe 50-dimensional vectors.\n",
    "- Given our limited training data, we’ll keep the GloVe embeddings fixed during training rather than allowing them to update.\n"
   ]
  },
  {
   "cell_type": "markdown",
   "metadata": {},
   "source": [
    "#### Inputs and Outputs of the Embedding Layer\n",
    "\n",
    "- The `Embedding()` layer in Keras takes as input an integer matrix of shape **(batch size, max input length)**:\n",
    "    - This input matrix represents sentences as lists of word indices.\n",
    "    - The maximum integer (index) value should not exceed the vocabulary size.\n",
    "\n",
    "- The output of the embedding layer is an array with shape **(batch size, max input length, embedding dimension)**, representing the embedded vectors for each word.\n",
    "\n",
    "The diagram below shows how two example sentences pass through the embedding layer. Both sentences are zero-padded to a length of `max_len=5`, and each word is represented by a 50-dimensional vector, resulting in an output shape of `(2, max_len, 50)`.\n",
    "\n",
    "<div style=\"text-align: center;\">\n",
    "  <img src=\"https://raw.githubusercontent.com/umermjd11/DLC5M2A2/master/images/embedding1.png\" style=\"width:700px;height:250px;\">\n",
    "  <br>\n",
    "  <caption>\n",
    "    <font color=\"#00796b\" style=\"font-size: 1.2em; font-weight: bold;\">\n",
    "      <b>Figure 4</b>: Embedding Layer Representation\n",
    "    </font>\n",
    "  </caption>\n",
    "</div>\n",
    "\n"
   ]
  },
  {
   "cell_type": "code",
   "execution_count": 34,
   "metadata": {},
   "outputs": [],
   "source": [
    "def sentences_to_indices(X, word_to_index, max_len):\n",
    "    \"\"\"\n",
    "    Converts an array of sentences (strings) into an array of indices corresponding to words in the sentences.\n",
    "    The output shape should be such that it can be given to `Embedding()` (described in Figure 4).\n",
    "    \n",
    "    Arguments:\n",
    "    X -- array of sentences (strings), of shape (m,)\n",
    "    word_to_index -- dictionary mapping words to their unique integer indices\n",
    "    max_len -- integer, maximum number of words in a sentence. Assume each sentence in X is no longer than this.\n",
    "    \n",
    "    Returns:\n",
    "    X_indices -- numpy array of shape (m, max_len) with word indices for each sentence in X\n",
    "    \"\"\"\n",
    "    \n",
    "    m = X.shape[0]  # number of sentences\n",
    "    \n",
    "    # Initialize X_indices as a matrix of zeros with shape (m, max_len)\n",
    "    X_indices = np.zeros((m, max_len), dtype=int)\n",
    "    \n",
    "    for i in range(m):  # loop over sentences in X\n",
    "        \n",
    "        # Convert the ith sentence to lower case and split it into words\n",
    "        sentence_words = X[i].lower().split()\n",
    "        \n",
    "        for j, w in enumerate(sentence_words[:max_len]):  # iterate up to max_len words in each sentence\n",
    "            # If word exists in word_to_index, set X_indices[i, j] to its index\n",
    "            if w in word_to_index:\n",
    "                X_indices[i, j] = word_to_index[w]\n",
    "                \n",
    "    return X_indices\n"
   ]
  },
  {
   "cell_type": "code",
   "execution_count": 35,
   "metadata": {},
   "outputs": [
    {
     "name": "stdout",
     "output_type": "stream",
     "text": [
      "[[0 1 3 2]\n",
      " [3 7 5 4]\n",
      " [4 2 6 0]]\n",
      "\u001b[92mAll tests passed!\n"
     ]
    }
   ],
   "source": [
    "# UNIT TEST\n",
    "def sentences_to_indices_test(target):\n",
    "    \n",
    "    # Create a word_to_index dictionary\n",
    "    word_to_index = {}\n",
    "    for idx, val in enumerate([\"i\", \"like\", \"learning\", \"deep\", \"machine\", \"love\", \"smile\", '´0.=']):\n",
    "        word_to_index[val] = idx;\n",
    "       \n",
    "    max_len = 4\n",
    "    sentences = np.array([\"I like deep learning\", \"deep ´0.= love machine\", \"machine learning smile\"]);\n",
    "    indexes = target(sentences, word_to_index, max_len)\n",
    "    print(indexes)\n",
    "    \n",
    "    assert type(indexes) == np.ndarray, \"Wrong type. Use np arrays in the function\"\n",
    "    assert indexes.shape == (sentences.shape[0], max_len), \"Wrong shape of ouput matrix\"\n",
    "    assert np.allclose(indexes, [[0, 1, 3, 2],\n",
    "                                 [3, 7, 5, 4],\n",
    "                                 [4, 2, 6, 0]]), \"Wrong values. Debug with the given examples\"\n",
    "    \n",
    "    print(\"\\033[92mAll tests passed!\")\n",
    "    \n",
    "sentences_to_indices_test(sentences_to_indices)"
   ]
  },
  {
   "cell_type": "markdown",
   "metadata": {},
   "source": [
    "Now we will run the following cell to check what sentences_to_indices() does, and take a look at our results."
   ]
  },
  {
   "cell_type": "code",
   "execution_count": 36,
   "metadata": {},
   "outputs": [
    {
     "name": "stdout",
     "output_type": "stream",
     "text": [
      "X1 = ['funny lol' 'lets play baseball' 'food is ready for you']\n",
      "X1_indices =\n",
      " [[155346 225123      0      0      0]\n",
      " [220931 286376  69715      0      0]\n",
      " [151205 192974 302255 151350 394476]]\n"
     ]
    }
   ],
   "source": [
    "X1 = np.array([\"funny lol\", \"lets play baseball\", \"food is ready for you\"])\n",
    "X1_indices = sentences_to_indices(X1, word_to_index, max_len=5)\n",
    "print(\"X1 =\", X1)\n",
    "print(\"X1_indices =\\n\", X1_indices)"
   ]
  },
  {
   "cell_type": "markdown",
   "metadata": {},
   "source": [
    "<a id='5-3'></a>\n",
    "\n",
    "## 5.3. Building Embedding Layer\n",
    "\n",
    "In this section, you will build the `Embedding()` layer in Keras using pre-trained word vectors.\n",
    "\n",
    "* The embedding layer takes as input a list of word indices.\n",
    "    * `sentences_to_indices()` is used to generate these word indices.\n",
    "* The embedding layer will return the corresponding word embeddings for each sentence.\n",
    "\n",
    "\n",
    "Now, we implement the `pretrained_embedding_layer()` function with the following steps:\n",
    "\n",
    "1. **Initialize the embedding matrix as a numpy array of zeros:**\n",
    "    * The embedding matrix will have a row for each unique word in the vocabulary.\n",
    "        * An additional row is added to handle \"unknown\" words (out-of-vocabulary words).\n",
    "        * The size of the vocabulary (`vocab_size`) is equal to the number of unique words in the vocabulary plus one.\n",
    "    * Each row in the matrix will store the vector representation of a word.\n",
    "        * For example, with GloVe word vectors, each row will have 50 positions (for 50-dimensional embeddings).\n",
    "    * The embedding dimension (`emb_dim`) represents the length of each word embedding.\n",
    "\n",
    "2. **Fill the embedding matrix:**\n",
    "    * For each word in `word_to_index`, which maps words to their indices, fill in the corresponding row of the matrix using the vector representation of that word from `word_to_vec_map`.\n",
    "        * `word_to_vec_map` is a dictionary where the keys are words (strings) and the values are their vector representations (numpy arrays).\n",
    "\n",
    "3. **Define the Keras embedding layer:**\n",
    "    * Use the `Embedding()` layer from Keras.\n",
    "    * The input dimension is the size of the vocabulary (number of unique words plus one).\n",
    "    * The output dimension is the size of the word embeddings (i.e., the length of each vector, `emb_dim`).\n",
    "    * Set `trainable = False` to ensure the pre-trained embeddings are not modified during training.\n",
    "\n",
    "4. **Set the embedding weights:**\n",
    "    * Set the embedding layer's weights to the embedding matrix you just created.\n",
    "    * This will initialize the embedding layer with the pre-trained GloVe embeddings.\n",
    "\n",
    "Once you've implemented these steps, the embedding layer will be ready to process the input sequences into word embeddings and feed them into the rest of your LSTM model.\n"
   ]
  },
  {
   "cell_type": "code",
   "execution_count": 37,
   "metadata": {},
   "outputs": [],
   "source": [
    "def pretrained_embedding_layer(word_to_vec_map, word_to_index):\n",
    "    \"\"\"\n",
    "    Creates a Keras Embedding() layer and loads in pre-trained GloVe 50-dimensional vectors.\n",
    "    \n",
    "    Arguments:\n",
    "    word_to_vec_map -- dictionary mapping words to their GloVe vector representation.\n",
    "    word_to_index -- dictionary mapping from words to their indices in the vocabulary (400,001 words)\n",
    "\n",
    "    Returns:\n",
    "    embedding_layer -- pretrained layer Keras instance\n",
    "    \"\"\"\n",
    "    \n",
    "    vocab_size = len(word_to_index) + 1  # adding 1 to fit Keras embedding requirement\n",
    "    any_word = list(word_to_vec_map.keys())[0]\n",
    "    embedding_dim = word_to_vec_map[any_word].shape[0]  # dimensionality of GloVe vectors (e.g., 50)\n",
    "      \n",
    "    \n",
    "    # Step 1: Initialize the embedding matrix as a numpy array of zeros.\n",
    "    emb_matrix = np.zeros((vocab_size, embedding_dim))\n",
    "    \n",
    "    # Step 2: Populate the embedding matrix with GloVe vectors\n",
    "    for word, idx in word_to_index.items():\n",
    "        if word in word_to_vec_map:  # Check if word is in GloVe dictionary\n",
    "            emb_matrix[idx, :] = word_to_vec_map[word]\n",
    "\n",
    "    # Step 3: Define a Keras embedding layer with the specified input/output dimensions and make it non-trainable\n",
    "    embedding_layer = Embedding(input_dim=vocab_size, output_dim=embedding_dim, trainable=False)\n",
    "\n",
    "    # Step 4: Build the embedding layer (required before setting the weights)\n",
    "    embedding_layer.build((None,))  # Do not modify the \"None\"\n",
    "    \n",
    "    # Set the embedding layer's weights to the pre-trained matrix\n",
    "    embedding_layer.set_weights([emb_matrix])\n",
    "    \n",
    "    return embedding_layer\n"
   ]
  },
  {
   "cell_type": "code",
   "execution_count": 38,
   "metadata": {},
   "outputs": [
    {
     "name": "stderr",
     "output_type": "stream",
     "text": [
      "2024-11-13 06:13:58.904011: E external/local_xla/xla/stream_executor/cuda/cuda_driver.cc:152] failed call to cuInit: INTERNAL: CUDA error: Failed call to cuInit: UNKNOWN ERROR (303)\n"
     ]
    },
    {
     "name": "stdout",
     "output_type": "stream",
     "text": [
      "\u001b[92mAll tests passed!\n"
     ]
    }
   ],
   "source": [
    "# UNIT TEST\n",
    "def pretrained_embedding_layer_test(target):\n",
    "    # Create a controlled word to vec map\n",
    "    word_to_vec_map = {'a': [3, 3], 'synonym_of_a': [3, 3], 'a_nw': [2, 4], 'a_s': [3, 2], 'a_n': [3, 4], \n",
    "                       'c': [-2, 1], 'c_n': [-2, 2],'c_ne': [-1, 2], 'c_e': [-1, 1], 'c_se': [-1, 0], \n",
    "                       'c_s': [-2, 0], 'c_sw': [-3, 0], 'c_w': [-3, 1], 'c_nw': [-3, 2]\n",
    "                      }\n",
    "    # Convert lists to np.arrays\n",
    "    for key in word_to_vec_map.keys():\n",
    "        word_to_vec_map[key] = np.array(word_to_vec_map[key])\n",
    "        \n",
    "    # Create a word_to_index dictionary\n",
    "    word_to_index = {}\n",
    "    for idx, val in enumerate(list(word_to_vec_map.keys())):\n",
    "        word_to_index[val] = idx;\n",
    "        \n",
    "    np.random.seed(1)\n",
    "    embedding_layer = target(word_to_vec_map, word_to_index)\n",
    "    \n",
    "    assert type(embedding_layer) == Embedding, \"Wrong type\"\n",
    "    assert embedding_layer.input_dim == len(list(word_to_vec_map.keys())) + 1, \"Wrong input shape\"\n",
    "    assert embedding_layer.output_dim == len(word_to_vec_map['a']), \"Wrong output shape\"\n",
    "    assert np.allclose(embedding_layer.get_weights(), \n",
    "                       [[[ 3, 3], [ 3, 3], [ 2, 4], [ 3, 2], [ 3, 4],\n",
    "                       [-2, 1], [-2, 2], [-1, 2], [-1, 1], [-1, 0],\n",
    "                       [-2, 0], [-3, 0], [-3, 1], [-3, 2], [ 0, 0]]]), \"Wrong vaulues\"\n",
    "    print(\"\\033[92mAll tests passed!\")\n",
    "       \n",
    "    \n",
    "pretrained_embedding_layer_test(pretrained_embedding_layer)"
   ]
  },
  {
   "cell_type": "markdown",
   "metadata": {},
   "source": [
    "<a id='5-4'></a>\n",
    "\n",
    "## 5.4. Building the Emojifier-V2\n",
    "\n",
    "Now we are ready to build the Emojifier-V2 model, where we will feed the output of the embedding layer into an LSTM network to classify sentences into emoji categories.\n",
    "\n",
    "\n",
    "<div style=\"text-align: center;\">\n",
    "  <img src=\"https://raw.githubusercontent.com/umermjd11/DLC5M2A2/master/images/emojifier-v2.png\" style=\"width:700px;height:400px;\">\n",
    "  <br>\n",
    "  <caption>\n",
    "    <font color=\"#00796b\" style=\"font-size: 1.2em; font-weight: bold;\">\n",
    "      <b>Figure 5</b>: Emojifier-v2. A 2-layer LSTM sequence classifier.\n",
    "    </font>\n",
    "  </caption>\n",
    "</div>\n",
    "\n"
   ]
  },
  {
   "cell_type": "markdown",
   "metadata": {},
   "source": [
    "Now we will implement the `Emojify_V2()` function that builds a Keras graph based on the architecture shown in Figure (5).\n",
    "\n",
    "#### Steps to Implement `Emojify_V2`:\n",
    "\n",
    "1. **Input Layer**:\n",
    "    - Use the [Input()](https://www.tensorflow.org/api_docs/python/tf/keras/Input) layer to define the input shape. \n",
    "    - The input will be an array of sentences with shape (`m`, `max_len`), where `m` is the number of sentences and `max_len` is the length of the longest sentence.\n",
    "    - Set the `dtype` parameter as `'int32'` since the input consists of integers (word indices).\n",
    "\n",
    "2. **Embedding Layer**:\n",
    "    - Use the embedding layer created in the previous task (`pretrained_embedding_layer`) to convert word indices into word embeddings.\n",
    "    - This layer will return a sequence of embeddings for each sentence.\n",
    "\n",
    "3. **LSTM Layer**:\n",
    "    - Use the [LSTM()](https://www.tensorflow.org/api_docs/python/tf/keras/layers/LSTM) layer to process the sequence of word embeddings.\n",
    "    - Set the `units` parameter to specify the number of LSTM units.\n",
    "    - Set `return_sequences=True` to ensure that the LSTM layer returns the full sequence of outputs, which is needed for further layers.\n",
    "\n",
    "4. **Dropout Layer**:\n",
    "    - Add a [Dropout()](https://www.tensorflow.org/api_docs/python/tf/keras/layers/Dropout) layer to prevent overfitting.\n",
    "    - Set the `rate` parameter to specify the dropout rate.\n",
    "\n",
    "5. **Dense Layer**:\n",
    "    - Use the [Dense()](https://www.tensorflow.org/api_docs/python/tf/keras/layers/Dense) layer to create a fully connected layer after the LSTM.\n",
    "    - Set the `units` parameter to 5, corresponding to the number of emoji classes.\n",
    "    - Do **not** set the activation function within the `Dense()` layer. This will be done in the next step.\n",
    "\n",
    "6. **Activation Layer**:\n",
    "    - Use the [Activation()](https://www.tensorflow.org/api_docs/python/tf/keras/layers/Activation) layer to apply the softmax activation function to the dense output.\n",
    "    - Set the activation function to `'softmax'` to output probabilities for each of the 5 classes.\n",
    "\n",
    "7. **Model Compilation**:\n",
    "    - Use the [Model()](https://www.tensorflow.org/api_docs/python/tf/keras/Model) class to define the model.\n",
    "    - Set the `inputs` and `outputs` arguments to specify the model's input and output layers.\n"
   ]
  },
  {
   "cell_type": "code",
   "execution_count": 40,
   "metadata": {},
   "outputs": [],
   "source": [
    "def Emojify_V2(input_shape, word_to_vec_map, word_to_index):\n",
    "    \"\"\"\n",
    "    Function creating the Emojify-v2 model's graph.\n",
    "    \n",
    "    Arguments:\n",
    "    input_shape -- shape of the input, usually (max_len,)\n",
    "    word_to_vec_map -- dictionary mapping every word in a vocabulary into its 50-dimensional vector representation\n",
    "    word_to_index -- dictionary mapping from words to their indices in the vocabulary (400,001 words)\n",
    "\n",
    "    Returns:\n",
    "    model -- a model instance in Keras\n",
    "    \"\"\"\n",
    "    \n",
    "    # Define sentence_indices as the input of the graph.\n",
    "    # It should be of shape input_shape and dtype 'int32' (as it contains indices, which are integers).\n",
    "    sentence_indices = Input(shape=input_shape,dtype='int32')\n",
    "    \n",
    "    # Create the embedding layer pretrained with GloVe Vectors (≈1 line)\n",
    "    embedding_layer = pretrained_embedding_layer(word_to_vec_map, word_to_index)\n",
    "    \n",
    "    # Propagate sentence_indices through your embedding layer\n",
    "    # (See additional hints in the instructions).\n",
    "    embeddings = embedding_layer(sentence_indices)   \n",
    "    \n",
    "    # Propagate the embeddings through an LSTM layer with 128-dimensional hidden state\n",
    "    # The returned output should be a batch of sequences, So, set return_sequences = True\n",
    "    # If return_sequences = False, the LSTM returns only tht last output in output sequence\n",
    "    X = LSTM(units=128,return_sequences = True)(embeddings)\n",
    "    # Add dropout with a probability of 0.5\n",
    "    X = Dropout(0.5)(X)\n",
    "    # Propagate X trough another LSTM layer with 128-dimensional hidden state\n",
    "    # The returned output should be a single hidden state, not a batch of sequences.\n",
    "    X = LSTM(units=128,return_sequences = False)(X)\n",
    "    # Add dropout with a probability of 0.5\n",
    "    X = Dropout(0.5)(X)\n",
    "    # Propagate X through a Dense layer with 5 units\n",
    "    X = Dense(5)(X)\n",
    "    # Add a softmax activation\n",
    "    X = Activation('softmax')(X)\n",
    "    \n",
    "    # Create Model instance which converts sentence_indices into X.\n",
    "    model = Model(inputs=sentence_indices,outputs=X)\n",
    "    \n",
    "    return model"
   ]
  },
  {
   "cell_type": "code",
   "execution_count": 44,
   "metadata": {},
   "outputs": [
    {
     "name": "stdout",
     "output_type": "stream",
     "text": [
      "\u001b[32mAll tests passed!\u001b[0m\n"
     ]
    }
   ],
   "source": [
    "# UNIT TEST\n",
    "def Emojify_V2_test(target):\n",
    "    # Create a controlled word to vec map\n",
    "    word_to_vec_map = {'a': [3, 3], 'synonym_of_a': [3, 3], 'a_nw': [2, 4], 'a_s': [3, 2], 'a_n': [3, 4], \n",
    "                       'c': [-2, 1], 'c_n': [-2, 2],'c_ne': [-1, 2], 'c_e': [-1, 1], 'c_se': [-1, 0], \n",
    "                       'c_s': [-2, 0], 'c_sw': [-3, 0], 'c_w': [-3, 1], 'c_nw': [-3, 2]\n",
    "                      }\n",
    "    # Convert lists to np.arrays\n",
    "    for key in word_to_vec_map.keys():\n",
    "        word_to_vec_map[key] = np.array(word_to_vec_map[key])\n",
    "        \n",
    "    # Create a word_to_index dictionary\n",
    "    word_to_index = {}\n",
    "    for idx, val in enumerate(list(word_to_vec_map.keys())):\n",
    "        word_to_index[val] = idx;\n",
    "        \n",
    "    maxLen = 4\n",
    "    model = target((maxLen,), word_to_vec_map, word_to_index)\n",
    "    \n",
    "    expectedModel = [['InputLayer', (None, 4), 0], ['Embedding', (None, 4, 2), 30], ['LSTM', (None, 4, 128), 67072, (None, 4, 2), 'tanh', True], ['Dropout', (None, 4, 128), 0, 0.5], ['LSTM', (None, 128), 131584, (None, 4, 128), 'tanh', False], ['Dropout', (None, 128), 0, 0.5], ['Dense', (None, 5), 645, 'linear'], ['Activation', (None, 5), 0]]\n",
    "    comparator(summary(model), expectedModel)\n",
    "    \n",
    "    \n",
    "Emojify_V2_test(Emojify_V2)"
   ]
  },
  {
   "cell_type": "markdown",
   "metadata": {},
   "source": [
    "### Model Architecture Overview\n",
    "\n",
    "In this section, we  summarize the architecture of our model. The choice of hyperparameters, such as the `max_len` value, is based on the characteristics of the dataset. Since all sentences in the dataset contain fewer than 10 words, we set `max_len = 10` to accommodate this constraint.\n",
    "\n",
    "Upon examining the model's architecture, we observe the following:\n",
    "\n",
    "- **Total Parameters**: The model contains 20,223,927 parameters in total.\n",
    "- **Non-Trainable Parameters**: Of these, 20,000,050 parameters are non-trainable. These correspond to the word embeddings, which are initialized based on a pre-trained embedding matrix and do not undergo further training during model optimization.\n",
    "- **Trainable Parameters**: The remaining 223,877 parameters are trainable, representing the layers and weights that will be adjusted during training.\n",
    "\n",
    "It is important to note the relationship between the vocabulary size and the number of non-trainable parameters. Given that the vocabulary size consists of 400,001 unique words, and each word is represented by a 50-dimensional embedding vector, the total number of non-trainable parameters is calculated as:\n",
    "\n",
    "$$\n",
    "\\text{Non-Trainable Parameters} = 400,001 \\times 50 = 20,000,050\n",
    "$$\n",
    "\n",
    "This results in the large proportion of non-trainable parameters, emphasizing the reliance on pre-trained embeddings for this model.\n"
   ]
  },
  {
   "cell_type": "code",
   "execution_count": 45,
   "metadata": {},
   "outputs": [
    {
     "data": {
      "text/html": [
       "<pre style=\"white-space:pre;overflow-x:auto;line-height:normal;font-family:Menlo,'DejaVu Sans Mono',consolas,'Courier New',monospace\"><span style=\"font-weight: bold\">Model: \"functional_4\"</span>\n",
       "</pre>\n"
      ],
      "text/plain": [
       "\u001b[1mModel: \"functional_4\"\u001b[0m\n"
      ]
     },
     "metadata": {},
     "output_type": "display_data"
    },
    {
     "data": {
      "text/html": [
       "<pre style=\"white-space:pre;overflow-x:auto;line-height:normal;font-family:Menlo,'DejaVu Sans Mono',consolas,'Courier New',monospace\">┏━━━━━━━━━━━━━━━━━━━━━━━━━━━━━━━━━┳━━━━━━━━━━━━━━━━━━━━━━━━┳━━━━━━━━━━━━━━━┓\n",
       "┃<span style=\"font-weight: bold\"> Layer (type)                    </span>┃<span style=\"font-weight: bold\"> Output Shape           </span>┃<span style=\"font-weight: bold\">       Param # </span>┃\n",
       "┡━━━━━━━━━━━━━━━━━━━━━━━━━━━━━━━━━╇━━━━━━━━━━━━━━━━━━━━━━━━╇━━━━━━━━━━━━━━━┩\n",
       "│ input_layer_4 (<span style=\"color: #0087ff; text-decoration-color: #0087ff\">InputLayer</span>)      │ (<span style=\"color: #00d7ff; text-decoration-color: #00d7ff\">None</span>, <span style=\"color: #00af00; text-decoration-color: #00af00\">10</span>)             │             <span style=\"color: #00af00; text-decoration-color: #00af00\">0</span> │\n",
       "├─────────────────────────────────┼────────────────────────┼───────────────┤\n",
       "│ embedding_5 (<span style=\"color: #0087ff; text-decoration-color: #0087ff\">Embedding</span>)         │ (<span style=\"color: #00d7ff; text-decoration-color: #00d7ff\">None</span>, <span style=\"color: #00af00; text-decoration-color: #00af00\">10</span>, <span style=\"color: #00af00; text-decoration-color: #00af00\">50</span>)         │    <span style=\"color: #00af00; text-decoration-color: #00af00\">20,000,100</span> │\n",
       "├─────────────────────────────────┼────────────────────────┼───────────────┤\n",
       "│ lstm_8 (<span style=\"color: #0087ff; text-decoration-color: #0087ff\">LSTM</span>)                   │ (<span style=\"color: #00d7ff; text-decoration-color: #00d7ff\">None</span>, <span style=\"color: #00af00; text-decoration-color: #00af00\">10</span>, <span style=\"color: #00af00; text-decoration-color: #00af00\">128</span>)        │        <span style=\"color: #00af00; text-decoration-color: #00af00\">91,648</span> │\n",
       "├─────────────────────────────────┼────────────────────────┼───────────────┤\n",
       "│ dropout_8 (<span style=\"color: #0087ff; text-decoration-color: #0087ff\">Dropout</span>)             │ (<span style=\"color: #00d7ff; text-decoration-color: #00d7ff\">None</span>, <span style=\"color: #00af00; text-decoration-color: #00af00\">10</span>, <span style=\"color: #00af00; text-decoration-color: #00af00\">128</span>)        │             <span style=\"color: #00af00; text-decoration-color: #00af00\">0</span> │\n",
       "├─────────────────────────────────┼────────────────────────┼───────────────┤\n",
       "│ lstm_9 (<span style=\"color: #0087ff; text-decoration-color: #0087ff\">LSTM</span>)                   │ (<span style=\"color: #00d7ff; text-decoration-color: #00d7ff\">None</span>, <span style=\"color: #00af00; text-decoration-color: #00af00\">128</span>)            │       <span style=\"color: #00af00; text-decoration-color: #00af00\">131,584</span> │\n",
       "├─────────────────────────────────┼────────────────────────┼───────────────┤\n",
       "│ dropout_9 (<span style=\"color: #0087ff; text-decoration-color: #0087ff\">Dropout</span>)             │ (<span style=\"color: #00d7ff; text-decoration-color: #00d7ff\">None</span>, <span style=\"color: #00af00; text-decoration-color: #00af00\">128</span>)            │             <span style=\"color: #00af00; text-decoration-color: #00af00\">0</span> │\n",
       "├─────────────────────────────────┼────────────────────────┼───────────────┤\n",
       "│ dense_4 (<span style=\"color: #0087ff; text-decoration-color: #0087ff\">Dense</span>)                 │ (<span style=\"color: #00d7ff; text-decoration-color: #00d7ff\">None</span>, <span style=\"color: #00af00; text-decoration-color: #00af00\">5</span>)              │           <span style=\"color: #00af00; text-decoration-color: #00af00\">645</span> │\n",
       "├─────────────────────────────────┼────────────────────────┼───────────────┤\n",
       "│ activation_4 (<span style=\"color: #0087ff; text-decoration-color: #0087ff\">Activation</span>)       │ (<span style=\"color: #00d7ff; text-decoration-color: #00d7ff\">None</span>, <span style=\"color: #00af00; text-decoration-color: #00af00\">5</span>)              │             <span style=\"color: #00af00; text-decoration-color: #00af00\">0</span> │\n",
       "└─────────────────────────────────┴────────────────────────┴───────────────┘\n",
       "</pre>\n"
      ],
      "text/plain": [
       "┏━━━━━━━━━━━━━━━━━━━━━━━━━━━━━━━━━┳━━━━━━━━━━━━━━━━━━━━━━━━┳━━━━━━━━━━━━━━━┓\n",
       "┃\u001b[1m \u001b[0m\u001b[1mLayer (type)                   \u001b[0m\u001b[1m \u001b[0m┃\u001b[1m \u001b[0m\u001b[1mOutput Shape          \u001b[0m\u001b[1m \u001b[0m┃\u001b[1m \u001b[0m\u001b[1m      Param #\u001b[0m\u001b[1m \u001b[0m┃\n",
       "┡━━━━━━━━━━━━━━━━━━━━━━━━━━━━━━━━━╇━━━━━━━━━━━━━━━━━━━━━━━━╇━━━━━━━━━━━━━━━┩\n",
       "│ input_layer_4 (\u001b[38;5;33mInputLayer\u001b[0m)      │ (\u001b[38;5;45mNone\u001b[0m, \u001b[38;5;34m10\u001b[0m)             │             \u001b[38;5;34m0\u001b[0m │\n",
       "├─────────────────────────────────┼────────────────────────┼───────────────┤\n",
       "│ embedding_5 (\u001b[38;5;33mEmbedding\u001b[0m)         │ (\u001b[38;5;45mNone\u001b[0m, \u001b[38;5;34m10\u001b[0m, \u001b[38;5;34m50\u001b[0m)         │    \u001b[38;5;34m20,000,100\u001b[0m │\n",
       "├─────────────────────────────────┼────────────────────────┼───────────────┤\n",
       "│ lstm_8 (\u001b[38;5;33mLSTM\u001b[0m)                   │ (\u001b[38;5;45mNone\u001b[0m, \u001b[38;5;34m10\u001b[0m, \u001b[38;5;34m128\u001b[0m)        │        \u001b[38;5;34m91,648\u001b[0m │\n",
       "├─────────────────────────────────┼────────────────────────┼───────────────┤\n",
       "│ dropout_8 (\u001b[38;5;33mDropout\u001b[0m)             │ (\u001b[38;5;45mNone\u001b[0m, \u001b[38;5;34m10\u001b[0m, \u001b[38;5;34m128\u001b[0m)        │             \u001b[38;5;34m0\u001b[0m │\n",
       "├─────────────────────────────────┼────────────────────────┼───────────────┤\n",
       "│ lstm_9 (\u001b[38;5;33mLSTM\u001b[0m)                   │ (\u001b[38;5;45mNone\u001b[0m, \u001b[38;5;34m128\u001b[0m)            │       \u001b[38;5;34m131,584\u001b[0m │\n",
       "├─────────────────────────────────┼────────────────────────┼───────────────┤\n",
       "│ dropout_9 (\u001b[38;5;33mDropout\u001b[0m)             │ (\u001b[38;5;45mNone\u001b[0m, \u001b[38;5;34m128\u001b[0m)            │             \u001b[38;5;34m0\u001b[0m │\n",
       "├─────────────────────────────────┼────────────────────────┼───────────────┤\n",
       "│ dense_4 (\u001b[38;5;33mDense\u001b[0m)                 │ (\u001b[38;5;45mNone\u001b[0m, \u001b[38;5;34m5\u001b[0m)              │           \u001b[38;5;34m645\u001b[0m │\n",
       "├─────────────────────────────────┼────────────────────────┼───────────────┤\n",
       "│ activation_4 (\u001b[38;5;33mActivation\u001b[0m)       │ (\u001b[38;5;45mNone\u001b[0m, \u001b[38;5;34m5\u001b[0m)              │             \u001b[38;5;34m0\u001b[0m │\n",
       "└─────────────────────────────────┴────────────────────────┴───────────────┘\n"
      ]
     },
     "metadata": {},
     "output_type": "display_data"
    },
    {
     "data": {
      "text/html": [
       "<pre style=\"white-space:pre;overflow-x:auto;line-height:normal;font-family:Menlo,'DejaVu Sans Mono',consolas,'Courier New',monospace\"><span style=\"font-weight: bold\"> Total params: </span><span style=\"color: #00af00; text-decoration-color: #00af00\">20,223,977</span> (77.15 MB)\n",
       "</pre>\n"
      ],
      "text/plain": [
       "\u001b[1m Total params: \u001b[0m\u001b[38;5;34m20,223,977\u001b[0m (77.15 MB)\n"
      ]
     },
     "metadata": {},
     "output_type": "display_data"
    },
    {
     "data": {
      "text/html": [
       "<pre style=\"white-space:pre;overflow-x:auto;line-height:normal;font-family:Menlo,'DejaVu Sans Mono',consolas,'Courier New',monospace\"><span style=\"font-weight: bold\"> Trainable params: </span><span style=\"color: #00af00; text-decoration-color: #00af00\">223,877</span> (874.52 KB)\n",
       "</pre>\n"
      ],
      "text/plain": [
       "\u001b[1m Trainable params: \u001b[0m\u001b[38;5;34m223,877\u001b[0m (874.52 KB)\n"
      ]
     },
     "metadata": {},
     "output_type": "display_data"
    },
    {
     "data": {
      "text/html": [
       "<pre style=\"white-space:pre;overflow-x:auto;line-height:normal;font-family:Menlo,'DejaVu Sans Mono',consolas,'Courier New',monospace\"><span style=\"font-weight: bold\"> Non-trainable params: </span><span style=\"color: #00af00; text-decoration-color: #00af00\">20,000,100</span> (76.29 MB)\n",
       "</pre>\n"
      ],
      "text/plain": [
       "\u001b[1m Non-trainable params: \u001b[0m\u001b[38;5;34m20,000,100\u001b[0m (76.29 MB)\n"
      ]
     },
     "metadata": {},
     "output_type": "display_data"
    }
   ],
   "source": [
    "model = Emojify_V2((maxLen,), word_to_vec_map, word_to_index)\n",
    "model.summary()"
   ]
  },
  {
   "cell_type": "markdown",
   "metadata": {},
   "source": [
    "#### Compile the Model \n",
    "\n",
    "As usual, after creating our model in Keras, we need to compile it and define what loss, optimizer and metrics you want to use. \n",
    "\n",
    "Lets compile our model using `categorical_crossentropy` loss, `adam` optimizer and `['accuracy']` metrics:"
   ]
  },
  {
   "cell_type": "code",
   "execution_count": 46,
   "metadata": {},
   "outputs": [],
   "source": [
    "model.compile(loss='categorical_crossentropy', optimizer='adam', metrics=['accuracy'])"
   ]
  },
  {
   "cell_type": "markdown",
   "metadata": {},
   "source": [
    "<a id='5-5'></a>\n",
    "\n",
    "### 5.5 - Model Training\n",
    "\n",
    "At this stage, we proceed with training the Emojifier-V2 model. The model architecture is designed to accept input data in the form of an array with shape ($m$, `max_len`), where $m$ represents the number of samples in the dataset, and `max_len` corresponds to the length of each sentence. The model outputs probability vectors with shape ($m$, `number of classes`), representing the predicted class probabilities for each input sample.\n",
    "\n",
    "To prepare the data for training, two key transformations are required:\n",
    "\n",
    "1. **Conversion of `X_train` to `X_train_indices`**: The input data, `X_train`, consists of sentences represented as strings. These must be converted into an array of word indices, `X_train_indices`, where each sentence is transformed into a sequence of indices corresponding to the words in the vocabulary.\n",
    "\n",
    "2. **Conversion of `Y_train` to `Y_train_oh`**: The labels in `Y_train`, originally provided as categorical indices, must be converted into one-hot encoded vectors. This transformation ensures that the model can output probabilities for each class, facilitating the calculation of loss during training.\n",
    "\n",
    "These preprocessing steps are essential to properly align the data with the input and output expectations of the model, enabling effective training.\n"
   ]
  },
  {
   "cell_type": "code",
   "execution_count": 47,
   "metadata": {},
   "outputs": [],
   "source": [
    "X_train_indices = sentences_to_indices(X_train, word_to_index, maxLen)\n",
    "Y_train_oh = convert_to_one_hot(Y_train, C = 5)"
   ]
  },
  {
   "cell_type": "markdown",
   "metadata": {},
   "source": [
    "Now we will fit the Keras model on `X_train_indices` and `Y_train_oh`, using `epochs = 50` and `batch_size = 32`."
   ]
  },
  {
   "cell_type": "code",
   "execution_count": 48,
   "metadata": {},
   "outputs": [
    {
     "name": "stdout",
     "output_type": "stream",
     "text": [
      "Epoch 1/100\n",
      "\u001b[1m5/5\u001b[0m \u001b[32m━━━━━━━━━━━━━━━━━━━━\u001b[0m\u001b[37m\u001b[0m \u001b[1m6s\u001b[0m 41ms/step - accuracy: 0.2089 - loss: 1.5875\n",
      "Epoch 2/100\n",
      "\u001b[1m5/5\u001b[0m \u001b[32m━━━━━━━━━━━━━━━━━━━━\u001b[0m\u001b[37m\u001b[0m \u001b[1m0s\u001b[0m 26ms/step - accuracy: 0.3267 - loss: 1.5125\n",
      "Epoch 3/100\n",
      "\u001b[1m5/5\u001b[0m \u001b[32m━━━━━━━━━━━━━━━━━━━━\u001b[0m\u001b[37m\u001b[0m \u001b[1m0s\u001b[0m 26ms/step - accuracy: 0.4683 - loss: 1.4675\n",
      "Epoch 4/100\n",
      "\u001b[1m5/5\u001b[0m \u001b[32m━━━━━━━━━━━━━━━━━━━━\u001b[0m\u001b[37m\u001b[0m \u001b[1m0s\u001b[0m 30ms/step - accuracy: 0.5163 - loss: 1.4005\n",
      "Epoch 5/100\n",
      "\u001b[1m5/5\u001b[0m \u001b[32m━━━━━━━━━━━━━━━━━━━━\u001b[0m\u001b[37m\u001b[0m \u001b[1m0s\u001b[0m 25ms/step - accuracy: 0.4942 - loss: 1.3052\n",
      "Epoch 6/100\n",
      "\u001b[1m5/5\u001b[0m \u001b[32m━━━━━━━━━━━━━━━━━━━━\u001b[0m\u001b[37m\u001b[0m \u001b[1m0s\u001b[0m 26ms/step - accuracy: 0.4905 - loss: 1.2141\n",
      "Epoch 7/100\n",
      "\u001b[1m5/5\u001b[0m \u001b[32m━━━━━━━━━━━━━━━━━━━━\u001b[0m\u001b[37m\u001b[0m \u001b[1m0s\u001b[0m 25ms/step - accuracy: 0.6003 - loss: 1.0614\n",
      "Epoch 8/100\n",
      "\u001b[1m5/5\u001b[0m \u001b[32m━━━━━━━━━━━━━━━━━━━━\u001b[0m\u001b[37m\u001b[0m \u001b[1m0s\u001b[0m 25ms/step - accuracy: 0.6310 - loss: 0.9978\n",
      "Epoch 9/100\n",
      "\u001b[1m5/5\u001b[0m \u001b[32m━━━━━━━━━━━━━━━━━━━━\u001b[0m\u001b[37m\u001b[0m \u001b[1m0s\u001b[0m 24ms/step - accuracy: 0.6646 - loss: 0.8911\n",
      "Epoch 10/100\n",
      "\u001b[1m5/5\u001b[0m \u001b[32m━━━━━━━━━━━━━━━━━━━━\u001b[0m\u001b[37m\u001b[0m \u001b[1m0s\u001b[0m 25ms/step - accuracy: 0.7115 - loss: 0.7958\n",
      "Epoch 11/100\n",
      "\u001b[1m5/5\u001b[0m \u001b[32m━━━━━━━━━━━━━━━━━━━━\u001b[0m\u001b[37m\u001b[0m \u001b[1m0s\u001b[0m 26ms/step - accuracy: 0.7861 - loss: 0.7047\n",
      "Epoch 12/100\n",
      "\u001b[1m5/5\u001b[0m \u001b[32m━━━━━━━━━━━━━━━━━━━━\u001b[0m\u001b[37m\u001b[0m \u001b[1m0s\u001b[0m 24ms/step - accuracy: 0.7474 - loss: 0.6708\n",
      "Epoch 13/100\n",
      "\u001b[1m5/5\u001b[0m \u001b[32m━━━━━━━━━━━━━━━━━━━━\u001b[0m\u001b[37m\u001b[0m \u001b[1m0s\u001b[0m 29ms/step - accuracy: 0.8553 - loss: 0.5034\n",
      "Epoch 14/100\n",
      "\u001b[1m5/5\u001b[0m \u001b[32m━━━━━━━━━━━━━━━━━━━━\u001b[0m\u001b[37m\u001b[0m \u001b[1m0s\u001b[0m 26ms/step - accuracy: 0.8033 - loss: 0.5123\n",
      "Epoch 15/100\n",
      "\u001b[1m5/5\u001b[0m \u001b[32m━━━━━━━━━━━━━━━━━━━━\u001b[0m\u001b[37m\u001b[0m \u001b[1m0s\u001b[0m 26ms/step - accuracy: 0.8834 - loss: 0.4097\n",
      "Epoch 16/100\n",
      "\u001b[1m5/5\u001b[0m \u001b[32m━━━━━━━━━━━━━━━━━━━━\u001b[0m\u001b[37m\u001b[0m \u001b[1m0s\u001b[0m 26ms/step - accuracy: 0.8346 - loss: 0.4818\n",
      "Epoch 17/100\n",
      "\u001b[1m5/5\u001b[0m \u001b[32m━━━━━━━━━━━━━━━━━━━━\u001b[0m\u001b[37m\u001b[0m \u001b[1m0s\u001b[0m 25ms/step - accuracy: 0.8435 - loss: 0.4325\n",
      "Epoch 18/100\n",
      "\u001b[1m5/5\u001b[0m \u001b[32m━━━━━━━━━━━━━━━━━━━━\u001b[0m\u001b[37m\u001b[0m \u001b[1m0s\u001b[0m 26ms/step - accuracy: 0.9060 - loss: 0.3848\n",
      "Epoch 19/100\n",
      "\u001b[1m5/5\u001b[0m \u001b[32m━━━━━━━━━━━━━━━━━━━━\u001b[0m\u001b[37m\u001b[0m \u001b[1m0s\u001b[0m 26ms/step - accuracy: 0.8194 - loss: 0.4894\n",
      "Epoch 20/100\n",
      "\u001b[1m5/5\u001b[0m \u001b[32m━━━━━━━━━━━━━━━━━━━━\u001b[0m\u001b[37m\u001b[0m \u001b[1m0s\u001b[0m 25ms/step - accuracy: 0.8506 - loss: 0.4078\n",
      "Epoch 21/100\n",
      "\u001b[1m5/5\u001b[0m \u001b[32m━━━━━━━━━━━━━━━━━━━━\u001b[0m\u001b[37m\u001b[0m \u001b[1m0s\u001b[0m 24ms/step - accuracy: 0.8525 - loss: 0.3764\n",
      "Epoch 22/100\n",
      "\u001b[1m5/5\u001b[0m \u001b[32m━━━━━━━━━━━━━━━━━━━━\u001b[0m\u001b[37m\u001b[0m \u001b[1m0s\u001b[0m 24ms/step - accuracy: 0.8994 - loss: 0.2544\n",
      "Epoch 23/100\n",
      "\u001b[1m5/5\u001b[0m \u001b[32m━━━━━━━━━━━━━━━━━━━━\u001b[0m\u001b[37m\u001b[0m \u001b[1m0s\u001b[0m 28ms/step - accuracy: 0.8989 - loss: 0.2805\n",
      "Epoch 24/100\n",
      "\u001b[1m5/5\u001b[0m \u001b[32m━━━━━━━━━━━━━━━━━━━━\u001b[0m\u001b[37m\u001b[0m \u001b[1m0s\u001b[0m 30ms/step - accuracy: 0.9637 - loss: 0.1897\n",
      "Epoch 25/100\n",
      "\u001b[1m5/5\u001b[0m \u001b[32m━━━━━━━━━━━━━━━━━━━━\u001b[0m\u001b[37m\u001b[0m \u001b[1m0s\u001b[0m 28ms/step - accuracy: 0.9352 - loss: 0.1875\n",
      "Epoch 26/100\n",
      "\u001b[1m5/5\u001b[0m \u001b[32m━━━━━━━━━━━━━━━━━━━━\u001b[0m\u001b[37m\u001b[0m \u001b[1m0s\u001b[0m 24ms/step - accuracy: 0.9635 - loss: 0.1526\n",
      "Epoch 27/100\n",
      "\u001b[1m5/5\u001b[0m \u001b[32m━━━━━━━━━━━━━━━━━━━━\u001b[0m\u001b[37m\u001b[0m \u001b[1m0s\u001b[0m 25ms/step - accuracy: 0.9503 - loss: 0.1215\n",
      "Epoch 28/100\n",
      "\u001b[1m5/5\u001b[0m \u001b[32m━━━━━━━━━━━━━━━━━━━━\u001b[0m\u001b[37m\u001b[0m \u001b[1m0s\u001b[0m 25ms/step - accuracy: 0.9658 - loss: 0.1289\n",
      "Epoch 29/100\n",
      "\u001b[1m5/5\u001b[0m \u001b[32m━━━━━━━━━━━━━━━━━━━━\u001b[0m\u001b[37m\u001b[0m \u001b[1m0s\u001b[0m 25ms/step - accuracy: 0.9395 - loss: 0.1698\n",
      "Epoch 30/100\n",
      "\u001b[1m5/5\u001b[0m \u001b[32m━━━━━━━━━━━━━━━━━━━━\u001b[0m\u001b[37m\u001b[0m \u001b[1m0s\u001b[0m 24ms/step - accuracy: 0.9699 - loss: 0.1262\n",
      "Epoch 31/100\n",
      "\u001b[1m5/5\u001b[0m \u001b[32m━━━━━━━━━━━━━━━━━━━━\u001b[0m\u001b[37m\u001b[0m \u001b[1m0s\u001b[0m 25ms/step - accuracy: 0.9665 - loss: 0.0851\n",
      "Epoch 32/100\n",
      "\u001b[1m5/5\u001b[0m \u001b[32m━━━━━━━━━━━━━━━━━━━━\u001b[0m\u001b[37m\u001b[0m \u001b[1m0s\u001b[0m 24ms/step - accuracy: 0.9743 - loss: 0.0763\n",
      "Epoch 33/100\n",
      "\u001b[1m5/5\u001b[0m \u001b[32m━━━━━━━━━━━━━━━━━━━━\u001b[0m\u001b[37m\u001b[0m \u001b[1m0s\u001b[0m 25ms/step - accuracy: 0.9341 - loss: 0.1457\n",
      "Epoch 34/100\n",
      "\u001b[1m5/5\u001b[0m \u001b[32m━━━━━━━━━━━━━━━━━━━━\u001b[0m\u001b[37m\u001b[0m \u001b[1m0s\u001b[0m 32ms/step - accuracy: 0.9670 - loss: 0.1036\n",
      "Epoch 35/100\n",
      "\u001b[1m5/5\u001b[0m \u001b[32m━━━━━━━━━━━━━━━━━━━━\u001b[0m\u001b[37m\u001b[0m \u001b[1m0s\u001b[0m 24ms/step - accuracy: 0.9618 - loss: 0.1152\n",
      "Epoch 36/100\n",
      "\u001b[1m5/5\u001b[0m \u001b[32m━━━━━━━━━━━━━━━━━━━━\u001b[0m\u001b[37m\u001b[0m \u001b[1m0s\u001b[0m 24ms/step - accuracy: 0.9371 - loss: 0.1070\n",
      "Epoch 37/100\n",
      "\u001b[1m5/5\u001b[0m \u001b[32m━━━━━━━━━━━━━━━━━━━━\u001b[0m\u001b[37m\u001b[0m \u001b[1m0s\u001b[0m 25ms/step - accuracy: 0.9673 - loss: 0.1018\n",
      "Epoch 38/100\n",
      "\u001b[1m5/5\u001b[0m \u001b[32m━━━━━━━━━━━━━━━━━━━━\u001b[0m\u001b[37m\u001b[0m \u001b[1m0s\u001b[0m 26ms/step - accuracy: 0.9230 - loss: 0.1563\n",
      "Epoch 39/100\n",
      "\u001b[1m5/5\u001b[0m \u001b[32m━━━━━━━━━━━━━━━━━━━━\u001b[0m\u001b[37m\u001b[0m \u001b[1m0s\u001b[0m 29ms/step - accuracy: 0.9006 - loss: 0.3955\n",
      "Epoch 40/100\n",
      "\u001b[1m5/5\u001b[0m \u001b[32m━━━━━━━━━━━━━━━━━━━━\u001b[0m\u001b[37m\u001b[0m \u001b[1m0s\u001b[0m 25ms/step - accuracy: 0.9207 - loss: 0.1637\n",
      "Epoch 41/100\n",
      "\u001b[1m5/5\u001b[0m \u001b[32m━━━━━━━━━━━━━━━━━━━━\u001b[0m\u001b[37m\u001b[0m \u001b[1m0s\u001b[0m 26ms/step - accuracy: 0.9962 - loss: 0.0634\n",
      "Epoch 42/100\n",
      "\u001b[1m5/5\u001b[0m \u001b[32m━━━━━━━━━━━━━━━━━━━━\u001b[0m\u001b[37m\u001b[0m \u001b[1m0s\u001b[0m 28ms/step - accuracy: 0.9798 - loss: 0.0918\n",
      "Epoch 43/100\n",
      "\u001b[1m5/5\u001b[0m \u001b[32m━━━━━━━━━━━━━━━━━━━━\u001b[0m\u001b[37m\u001b[0m \u001b[1m0s\u001b[0m 27ms/step - accuracy: 0.9828 - loss: 0.0713\n",
      "Epoch 44/100\n",
      "\u001b[1m5/5\u001b[0m \u001b[32m━━━━━━━━━━━━━━━━━━━━\u001b[0m\u001b[37m\u001b[0m \u001b[1m0s\u001b[0m 28ms/step - accuracy: 1.0000 - loss: 0.0497\n",
      "Epoch 45/100\n",
      "\u001b[1m5/5\u001b[0m \u001b[32m━━━━━━━━━━━━━━━━━━━━\u001b[0m\u001b[37m\u001b[0m \u001b[1m0s\u001b[0m 24ms/step - accuracy: 0.9962 - loss: 0.0283\n",
      "Epoch 46/100\n",
      "\u001b[1m5/5\u001b[0m \u001b[32m━━━━━━━━━━━━━━━━━━━━\u001b[0m\u001b[37m\u001b[0m \u001b[1m0s\u001b[0m 24ms/step - accuracy: 0.9918 - loss: 0.0305\n",
      "Epoch 47/100\n",
      "\u001b[1m5/5\u001b[0m \u001b[32m━━━━━━━━━━━━━━━━━━━━\u001b[0m\u001b[37m\u001b[0m \u001b[1m0s\u001b[0m 29ms/step - accuracy: 1.0000 - loss: 0.0158\n",
      "Epoch 48/100\n",
      "\u001b[1m5/5\u001b[0m \u001b[32m━━━━━━━━━━━━━━━━━━━━\u001b[0m\u001b[37m\u001b[0m \u001b[1m0s\u001b[0m 24ms/step - accuracy: 0.9918 - loss: 0.0202\n",
      "Epoch 49/100\n",
      "\u001b[1m5/5\u001b[0m \u001b[32m━━━━━━━━━━━━━━━━━━━━\u001b[0m\u001b[37m\u001b[0m \u001b[1m0s\u001b[0m 26ms/step - accuracy: 1.0000 - loss: 0.0112\n",
      "Epoch 50/100\n",
      "\u001b[1m5/5\u001b[0m \u001b[32m━━━━━━━━━━━━━━━━━━━━\u001b[0m\u001b[37m\u001b[0m \u001b[1m0s\u001b[0m 25ms/step - accuracy: 0.9918 - loss: 0.0194\n",
      "Epoch 51/100\n",
      "\u001b[1m5/5\u001b[0m \u001b[32m━━━━━━━━━━━━━━━━━━━━\u001b[0m\u001b[37m\u001b[0m \u001b[1m0s\u001b[0m 29ms/step - accuracy: 1.0000 - loss: 0.0098\n",
      "Epoch 52/100\n",
      "\u001b[1m5/5\u001b[0m \u001b[32m━━━━━━━━━━━━━━━━━━━━\u001b[0m\u001b[37m\u001b[0m \u001b[1m0s\u001b[0m 26ms/step - accuracy: 1.0000 - loss: 0.0122\n",
      "Epoch 53/100\n",
      "\u001b[1m5/5\u001b[0m \u001b[32m━━━━━━━━━━━━━━━━━━━━\u001b[0m\u001b[37m\u001b[0m \u001b[1m0s\u001b[0m 25ms/step - accuracy: 1.0000 - loss: 0.0094\n",
      "Epoch 54/100\n",
      "\u001b[1m5/5\u001b[0m \u001b[32m━━━━━━━━━━━━━━━━━━━━\u001b[0m\u001b[37m\u001b[0m \u001b[1m0s\u001b[0m 24ms/step - accuracy: 1.0000 - loss: 0.0041\n",
      "Epoch 55/100\n",
      "\u001b[1m5/5\u001b[0m \u001b[32m━━━━━━━━━━━━━━━━━━━━\u001b[0m\u001b[37m\u001b[0m \u001b[1m0s\u001b[0m 25ms/step - accuracy: 1.0000 - loss: 0.0056\n",
      "Epoch 56/100\n",
      "\u001b[1m5/5\u001b[0m \u001b[32m━━━━━━━━━━━━━━━━━━━━\u001b[0m\u001b[37m\u001b[0m \u001b[1m0s\u001b[0m 30ms/step - accuracy: 1.0000 - loss: 0.0046\n",
      "Epoch 57/100\n",
      "\u001b[1m5/5\u001b[0m \u001b[32m━━━━━━━━━━━━━━━━━━━━\u001b[0m\u001b[37m\u001b[0m \u001b[1m0s\u001b[0m 24ms/step - accuracy: 1.0000 - loss: 0.0036\n",
      "Epoch 58/100\n",
      "\u001b[1m5/5\u001b[0m \u001b[32m━━━━━━━━━━━━━━━━━━━━\u001b[0m\u001b[37m\u001b[0m \u001b[1m0s\u001b[0m 26ms/step - accuracy: 1.0000 - loss: 0.0050\n",
      "Epoch 59/100\n",
      "\u001b[1m5/5\u001b[0m \u001b[32m━━━━━━━━━━━━━━━━━━━━\u001b[0m\u001b[37m\u001b[0m \u001b[1m0s\u001b[0m 26ms/step - accuracy: 1.0000 - loss: 0.0029\n",
      "Epoch 60/100\n",
      "\u001b[1m5/5\u001b[0m \u001b[32m━━━━━━━━━━━━━━━━━━━━\u001b[0m\u001b[37m\u001b[0m \u001b[1m0s\u001b[0m 25ms/step - accuracy: 1.0000 - loss: 0.0037\n",
      "Epoch 61/100\n",
      "\u001b[1m5/5\u001b[0m \u001b[32m━━━━━━━━━━━━━━━━━━━━\u001b[0m\u001b[37m\u001b[0m \u001b[1m0s\u001b[0m 25ms/step - accuracy: 1.0000 - loss: 0.0027\n",
      "Epoch 62/100\n",
      "\u001b[1m5/5\u001b[0m \u001b[32m━━━━━━━━━━━━━━━━━━━━\u001b[0m\u001b[37m\u001b[0m \u001b[1m0s\u001b[0m 25ms/step - accuracy: 1.0000 - loss: 0.0022\n",
      "Epoch 63/100\n",
      "\u001b[1m5/5\u001b[0m \u001b[32m━━━━━━━━━━━━━━━━━━━━\u001b[0m\u001b[37m\u001b[0m \u001b[1m0s\u001b[0m 25ms/step - accuracy: 1.0000 - loss: 0.0019\n",
      "Epoch 64/100\n",
      "\u001b[1m5/5\u001b[0m \u001b[32m━━━━━━━━━━━━━━━━━━━━\u001b[0m\u001b[37m\u001b[0m \u001b[1m0s\u001b[0m 24ms/step - accuracy: 1.0000 - loss: 0.0046\n",
      "Epoch 65/100\n",
      "\u001b[1m5/5\u001b[0m \u001b[32m━━━━━━━━━━━━━━━━━━━━\u001b[0m\u001b[37m\u001b[0m \u001b[1m0s\u001b[0m 25ms/step - accuracy: 1.0000 - loss: 0.0031\n",
      "Epoch 66/100\n",
      "\u001b[1m5/5\u001b[0m \u001b[32m━━━━━━━━━━━━━━━━━━━━\u001b[0m\u001b[37m\u001b[0m \u001b[1m0s\u001b[0m 25ms/step - accuracy: 1.0000 - loss: 0.0028\n",
      "Epoch 67/100\n",
      "\u001b[1m5/5\u001b[0m \u001b[32m━━━━━━━━━━━━━━━━━━━━\u001b[0m\u001b[37m\u001b[0m \u001b[1m0s\u001b[0m 26ms/step - accuracy: 1.0000 - loss: 0.0025\n",
      "Epoch 68/100\n",
      "\u001b[1m5/5\u001b[0m \u001b[32m━━━━━━━━━━━━━━━━━━━━\u001b[0m\u001b[37m\u001b[0m \u001b[1m0s\u001b[0m 25ms/step - accuracy: 1.0000 - loss: 0.0017\n",
      "Epoch 69/100\n",
      "\u001b[1m5/5\u001b[0m \u001b[32m━━━━━━━━━━━━━━━━━━━━\u001b[0m\u001b[37m\u001b[0m \u001b[1m0s\u001b[0m 25ms/step - accuracy: 1.0000 - loss: 0.0027\n",
      "Epoch 70/100\n",
      "\u001b[1m5/5\u001b[0m \u001b[32m━━━━━━━━━━━━━━━━━━━━\u001b[0m\u001b[37m\u001b[0m \u001b[1m0s\u001b[0m 24ms/step - accuracy: 1.0000 - loss: 0.0023\n",
      "Epoch 71/100\n",
      "\u001b[1m5/5\u001b[0m \u001b[32m━━━━━━━━━━━━━━━━━━━━\u001b[0m\u001b[37m\u001b[0m \u001b[1m0s\u001b[0m 25ms/step - accuracy: 1.0000 - loss: 0.0033\n",
      "Epoch 72/100\n",
      "\u001b[1m5/5\u001b[0m \u001b[32m━━━━━━━━━━━━━━━━━━━━\u001b[0m\u001b[37m\u001b[0m \u001b[1m0s\u001b[0m 31ms/step - accuracy: 1.0000 - loss: 0.0020\n",
      "Epoch 73/100\n",
      "\u001b[1m5/5\u001b[0m \u001b[32m━━━━━━━━━━━━━━━━━━━━\u001b[0m\u001b[37m\u001b[0m \u001b[1m0s\u001b[0m 24ms/step - accuracy: 1.0000 - loss: 0.0016\n",
      "Epoch 74/100\n",
      "\u001b[1m5/5\u001b[0m \u001b[32m━━━━━━━━━━━━━━━━━━━━\u001b[0m\u001b[37m\u001b[0m \u001b[1m0s\u001b[0m 25ms/step - accuracy: 1.0000 - loss: 0.0029\n",
      "Epoch 75/100\n",
      "\u001b[1m5/5\u001b[0m \u001b[32m━━━━━━━━━━━━━━━━━━━━\u001b[0m\u001b[37m\u001b[0m \u001b[1m0s\u001b[0m 25ms/step - accuracy: 1.0000 - loss: 0.0019\n",
      "Epoch 76/100\n",
      "\u001b[1m5/5\u001b[0m \u001b[32m━━━━━━━━━━━━━━━━━━━━\u001b[0m\u001b[37m\u001b[0m \u001b[1m0s\u001b[0m 25ms/step - accuracy: 1.0000 - loss: 0.0013\n",
      "Epoch 77/100\n",
      "\u001b[1m5/5\u001b[0m \u001b[32m━━━━━━━━━━━━━━━━━━━━\u001b[0m\u001b[37m\u001b[0m \u001b[1m0s\u001b[0m 24ms/step - accuracy: 1.0000 - loss: 0.0012    \n",
      "Epoch 78/100\n",
      "\u001b[1m5/5\u001b[0m \u001b[32m━━━━━━━━━━━━━━━━━━━━\u001b[0m\u001b[37m\u001b[0m \u001b[1m0s\u001b[0m 25ms/step - accuracy: 1.0000 - loss: 0.0012\n",
      "Epoch 79/100\n",
      "\u001b[1m5/5\u001b[0m \u001b[32m━━━━━━━━━━━━━━━━━━━━\u001b[0m\u001b[37m\u001b[0m \u001b[1m0s\u001b[0m 24ms/step - accuracy: 1.0000 - loss: 0.0018\n",
      "Epoch 80/100\n",
      "\u001b[1m5/5\u001b[0m \u001b[32m━━━━━━━━━━━━━━━━━━━━\u001b[0m\u001b[37m\u001b[0m \u001b[1m0s\u001b[0m 26ms/step - accuracy: 1.0000 - loss: 0.0021\n",
      "Epoch 81/100\n",
      "\u001b[1m5/5\u001b[0m \u001b[32m━━━━━━━━━━━━━━━━━━━━\u001b[0m\u001b[37m\u001b[0m \u001b[1m0s\u001b[0m 25ms/step - accuracy: 1.0000 - loss: 0.0022\n",
      "Epoch 82/100\n",
      "\u001b[1m5/5\u001b[0m \u001b[32m━━━━━━━━━━━━━━━━━━━━\u001b[0m\u001b[37m\u001b[0m \u001b[1m0s\u001b[0m 23ms/step - accuracy: 1.0000 - loss: 0.0011    \n",
      "Epoch 83/100\n",
      "\u001b[1m5/5\u001b[0m \u001b[32m━━━━━━━━━━━━━━━━━━━━\u001b[0m\u001b[37m\u001b[0m \u001b[1m0s\u001b[0m 32ms/step - accuracy: 1.0000 - loss: 0.0013\n",
      "Epoch 84/100\n",
      "\u001b[1m5/5\u001b[0m \u001b[32m━━━━━━━━━━━━━━━━━━━━\u001b[0m\u001b[37m\u001b[0m \u001b[1m0s\u001b[0m 25ms/step - accuracy: 1.0000 - loss: 0.0012\n",
      "Epoch 85/100\n",
      "\u001b[1m5/5\u001b[0m \u001b[32m━━━━━━━━━━━━━━━━━━━━\u001b[0m\u001b[37m\u001b[0m \u001b[1m0s\u001b[0m 24ms/step - accuracy: 1.0000 - loss: 0.0015\n",
      "Epoch 86/100\n",
      "\u001b[1m5/5\u001b[0m \u001b[32m━━━━━━━━━━━━━━━━━━━━\u001b[0m\u001b[37m\u001b[0m \u001b[1m0s\u001b[0m 26ms/step - accuracy: 1.0000 - loss: 0.0011   \n",
      "Epoch 87/100\n",
      "\u001b[1m5/5\u001b[0m \u001b[32m━━━━━━━━━━━━━━━━━━━━\u001b[0m\u001b[37m\u001b[0m \u001b[1m0s\u001b[0m 25ms/step - accuracy: 1.0000 - loss: 0.0012\n",
      "Epoch 88/100\n",
      "\u001b[1m5/5\u001b[0m \u001b[32m━━━━━━━━━━━━━━━━━━━━\u001b[0m\u001b[37m\u001b[0m \u001b[1m0s\u001b[0m 24ms/step - accuracy: 1.0000 - loss: 0.0015\n",
      "Epoch 89/100\n",
      "\u001b[1m5/5\u001b[0m \u001b[32m━━━━━━━━━━━━━━━━━━━━\u001b[0m\u001b[37m\u001b[0m \u001b[1m0s\u001b[0m 25ms/step - accuracy: 1.0000 - loss: 0.0015\n",
      "Epoch 90/100\n",
      "\u001b[1m5/5\u001b[0m \u001b[32m━━━━━━━━━━━━━━━━━━━━\u001b[0m\u001b[37m\u001b[0m \u001b[1m0s\u001b[0m 26ms/step - accuracy: 1.0000 - loss: 0.0014\n",
      "Epoch 91/100\n",
      "\u001b[1m5/5\u001b[0m \u001b[32m━━━━━━━━━━━━━━━━━━━━\u001b[0m\u001b[37m\u001b[0m \u001b[1m0s\u001b[0m 24ms/step - accuracy: 1.0000 - loss: 0.0023\n",
      "Epoch 92/100\n",
      "\u001b[1m5/5\u001b[0m \u001b[32m━━━━━━━━━━━━━━━━━━━━\u001b[0m\u001b[37m\u001b[0m \u001b[1m0s\u001b[0m 27ms/step - accuracy: 1.0000 - loss: 0.0015    \n",
      "Epoch 93/100\n",
      "\u001b[1m5/5\u001b[0m \u001b[32m━━━━━━━━━━━━━━━━━━━━\u001b[0m\u001b[37m\u001b[0m \u001b[1m0s\u001b[0m 30ms/step - accuracy: 1.0000 - loss: 0.0012\n",
      "Epoch 94/100\n",
      "\u001b[1m5/5\u001b[0m \u001b[32m━━━━━━━━━━━━━━━━━━━━\u001b[0m\u001b[37m\u001b[0m \u001b[1m0s\u001b[0m 24ms/step - accuracy: 1.0000 - loss: 0.0012\n",
      "Epoch 95/100\n",
      "\u001b[1m5/5\u001b[0m \u001b[32m━━━━━━━━━━━━━━━━━━━━\u001b[0m\u001b[37m\u001b[0m \u001b[1m0s\u001b[0m 26ms/step - accuracy: 1.0000 - loss: 9.3762e-04\n",
      "Epoch 96/100\n",
      "\u001b[1m5/5\u001b[0m \u001b[32m━━━━━━━━━━━━━━━━━━━━\u001b[0m\u001b[37m\u001b[0m \u001b[1m0s\u001b[0m 24ms/step - accuracy: 1.0000 - loss: 8.6628e-04\n",
      "Epoch 97/100\n",
      "\u001b[1m5/5\u001b[0m \u001b[32m━━━━━━━━━━━━━━━━━━━━\u001b[0m\u001b[37m\u001b[0m \u001b[1m0s\u001b[0m 24ms/step - accuracy: 1.0000 - loss: 0.0013\n",
      "Epoch 98/100\n",
      "\u001b[1m5/5\u001b[0m \u001b[32m━━━━━━━━━━━━━━━━━━━━\u001b[0m\u001b[37m\u001b[0m \u001b[1m0s\u001b[0m 24ms/step - accuracy: 1.0000 - loss: 0.0010    \n",
      "Epoch 99/100\n",
      "\u001b[1m5/5\u001b[0m \u001b[32m━━━━━━━━━━━━━━━━━━━━\u001b[0m\u001b[37m\u001b[0m \u001b[1m0s\u001b[0m 27ms/step - accuracy: 1.0000 - loss: 0.0011    \n",
      "Epoch 100/100\n",
      "\u001b[1m5/5\u001b[0m \u001b[32m━━━━━━━━━━━━━━━━━━━━\u001b[0m\u001b[37m\u001b[0m \u001b[1m0s\u001b[0m 24ms/step - accuracy: 1.0000 - loss: 7.2972e-04\n"
     ]
    },
    {
     "data": {
      "text/plain": [
       "<keras.src.callbacks.history.History at 0x7b3dac9eb050>"
      ]
     },
     "execution_count": 48,
     "metadata": {},
     "output_type": "execute_result"
    }
   ],
   "source": [
    "model.fit(X_train_indices, Y_train_oh, epochs = 100, batch_size = 32, shuffle=True)"
   ]
  },
  {
   "cell_type": "markdown",
   "metadata": {},
   "source": [
    "Lets evaluate our model on the test set: "
   ]
  },
  {
   "cell_type": "code",
   "execution_count": 49,
   "metadata": {},
   "outputs": [
    {
     "name": "stdout",
     "output_type": "stream",
     "text": [
      "\u001b[1m2/2\u001b[0m \u001b[32m━━━━━━━━━━━━━━━━━━━━\u001b[0m\u001b[37m\u001b[0m \u001b[1m0s\u001b[0m 10ms/step - accuracy: 0.8423 - loss: 0.8007 \n",
      "\n",
      "Test accuracy =  0.8571428656578064\n"
     ]
    }
   ],
   "source": [
    "X_test_indices = sentences_to_indices(X_test, word_to_index, max_len = maxLen)\n",
    "Y_test_oh = convert_to_one_hot(Y_test, C = 5)\n",
    "loss, acc = model.evaluate(X_test_indices, Y_test_oh)\n",
    "print()\n",
    "print(\"Test accuracy = \", acc)"
   ]
  },
  {
   "cell_type": "markdown",
   "metadata": {},
   "source": [
    "The model has accuracy of 85% on test data. Lets see the mislabelled examples: "
   ]
  },
  {
   "cell_type": "code",
   "execution_count": 51,
   "metadata": {},
   "outputs": [
    {
     "name": "stdout",
     "output_type": "stream",
     "text": [
      "\u001b[1m2/2\u001b[0m \u001b[32m━━━━━━━━━━━━━━━━━━━━\u001b[0m\u001b[37m\u001b[0m \u001b[1m0s\u001b[0m 9ms/step \n",
      "Expected emoji: 😄 | Sentence: she got me a nice present\t | Predicted emoji: ❤️\n",
      "Expected emoji: 😞 | Sentence: work is hard\t | Predicted emoji: 😄\n",
      "Expected emoji: 😞 | Sentence: This girl is messing with me\t | Predicted emoji: ❤️\n",
      "Expected emoji: 😞 | Sentence: work is horrible\t | Predicted emoji: 😄\n",
      "Expected emoji: 🍴 | Sentence: any suggestions for dinner\t | Predicted emoji: 😄\n",
      "Expected emoji: 😞 | Sentence: she is a bully\t | Predicted emoji: ❤️\n",
      "Expected emoji: 😞 | Sentence: go away\t | Predicted emoji: ⚾\n",
      "Expected emoji: 🍴 | Sentence: I did not have breakfast  | Predicted emoji: ❤️\n"
     ]
    }
   ],
   "source": [
    "C = 5  # Number of classes\n",
    "y_test_oh = np.eye(C)[Y_test.reshape(-1)]  # One-hot encoding of the test labels\n",
    "X_test_indices = sentences_to_indices(X_test, word_to_index, maxLen)  # Convert test sentences to word indices\n",
    "pred = model.predict(X_test_indices)  # Generate predictions for the test set\n",
    "\n",
    "# Loop through the test set and identify mislabelled examples\n",
    "for i in range(len(X_test)):\n",
    "    x = X_test_indices[i]\n",
    "    num = np.argmax(pred[i])  # Get the predicted class\n",
    "    if num != Y_test[i]:  # Check if the prediction is incorrect\n",
    "        print('Expected emoji: ' + label_to_emoji(Y_test[i]) + \n",
    "              ' | Sentence: ' + X_test[i] + ' | Predicted emoji: ' + label_to_emoji(num).strip())"
   ]
  },
  {
   "cell_type": "markdown",
   "metadata": {},
   "source": [
    "Lets try it on our own example! lets write our own sentence below:"
   ]
  },
  {
   "cell_type": "code",
   "execution_count": 54,
   "metadata": {},
   "outputs": [
    {
     "name": "stdout",
     "output_type": "stream",
     "text": [
      "\u001b[1m1/1\u001b[0m \u001b[32m━━━━━━━━━━━━━━━━━━━━\u001b[0m\u001b[37m\u001b[0m \u001b[1m0s\u001b[0m 25ms/step\n",
      "Lets go for dinner 🍴\n"
     ]
    }
   ],
   "source": [
    "# Change the sentence below to see your prediction. Make sure all the words are in the Glove embeddings.  \n",
    "x_test = np.array([\"Lets go for dinner\"])\n",
    "X_test_indices = sentences_to_indices(x_test, word_to_index, maxLen)\n",
    "print(x_test[0] +' '+  label_to_emoji(np.argmax(model.predict(X_test_indices))))"
   ]
  },
  {
   "cell_type": "markdown",
   "metadata": {},
   "source": [
    "#### LSTM Version Accounts for Word Order\n",
    "\n",
    "The Emojify-V2 model demonstrates an improved ability to capture the order of words in a sentence compared to the earlier Emojify-V1 model. For example, the phrase *\"not feeling happy\"*, which Emojify-V1 struggled to interpret correctly, is now accurately classified by the Emojify-V2 implementation. \n",
    "\n",
    "However, it is important to note that Keras outputs can exhibit slight randomness during prediction. If the model does not perform as expected, this variability may explain the inconsistency, as predictions can differ slightly each time the model is run.\n",
    "\n",
    "Despite this improvement, the current model still exhibits some limitations in understanding negation. For instance, expressions like *\"not happy\"* are not always processed correctly. This issue arises from the small size of the training set, which lacks sufficient examples of sentences containing negation. \n",
    "\n",
    "A larger, more diverse training set would allow the LSTM model to better capture complex sentence structures, including negation. With a richer dataset, the Emojify-V2 model would likely outperform Emojify-V1 in its ability to handle a broader range of linguistic constructs.\n"
   ]
  },
  {
   "cell_type": "markdown",
   "metadata": {},
   "source": [
    "<a id=\"6\"></a>\n",
    "<h1 style=\"background: #FFC07F; border: 0; color: #2F2E41; \n",
    "    box-shadow: 4px 4px 8px rgba(0, 0, 0, 0.3); \n",
    "    padding: 10px; border-radius: 10px; margin: 15px 0;\">\n",
    "    <center style=\"color: #2F2E41;\">6. Conclusion</center>\n",
    "</h1>"
   ]
  },
  {
   "cell_type": "markdown",
   "metadata": {},
   "source": [
    "\n",
    "\n",
    "We have successfully completed this notebook and leveraged the power of Long Short-Term Memory (LSTM) networks to enhance the emotive expression of words. ❤️❤️❤️\n",
    "\n",
    "At this stage, we have:\n",
    "\n",
    "- Constructed an embedding matrix.\n",
    "- Observed how negative sampling can more efficiently learn word vectors compared to other methods.\n",
    "- Gained insight into the advantages and limitations of the GloVe algorithm.\n",
    "- Built a sentiment classifier using word embeddings.\n",
    "\n",
    "This accomplishment marks a significant step in understanding and applying advanced techniques in natural language processing (NLP). Well done! (or, in Emojified terms: 😎😎😎)\n"
   ]
  },
  {
   "cell_type": "markdown",
   "metadata": {},
   "source": [
    "<a id=\"7\"></a>\n",
    "<h1 style=\"background: #FFC07F; border: 0; color: #2F2E41; \n",
    "    box-shadow: 4px 4px 8px rgba(0, 0, 0, 0.3); \n",
    "    padding: 10px; border-radius: 10px; margin: 15px 0;\">\n",
    "    <center style=\"color: #2F2E41;\">7. Key Takeaways</center>\n",
    "</h1>"
   ]
  },
  {
   "cell_type": "markdown",
   "metadata": {},
   "source": [
    "\n",
    "\n",
    "- When working with NLP tasks that involve small training sets, word embeddings can significantly enhance the performance of your algorithm.\n",
    "- Word embeddings enable the model to handle words in the test set that may not have appeared in the training set, providing greater flexibility and robustness.\n",
    "- Training sequence models in Keras (and other deep learning frameworks) requires attention to several key details:\n",
    "    - **Padding Sequences**: To use mini-batches, the sequences must be **padded** so that all examples in a mini-batch have the **same length**.\n",
    "    - **Embedding Layer Initialization**: An `Embedding()` layer can be initialized with pre-trained values. These values can either be fixed or further trained on your specific dataset.\n",
    "        - However, when working with a small labeled dataset, it is generally not beneficial to fine-tune a large pre-trained set of embeddings.\n",
    "    - **LSTM Configuration**: The `LSTM()` layer includes a `return_sequences` flag, which determines whether the layer returns every hidden state or only the final one.\n",
    "    - **Regularization**: The `Dropout()` layer can be applied immediately after the `LSTM()` layer to regularize the network and reduce overfitting.\n",
    "\n"
   ]
  },
  {
   "cell_type": "code",
   "execution_count": null,
   "metadata": {},
   "outputs": [],
   "source": []
  },
  {
   "cell_type": "markdown",
   "metadata": {},
   "source": []
  },
  {
   "cell_type": "markdown",
   "metadata": {},
   "source": []
  }
 ],
 "metadata": {
  "accelerator": "GPU",
  "colab": {
   "collapsed_sections": [
    "zhyVzuThcFI4",
    "LUSzrFkYcFJF"
   ],
   "name": "Solution_Emojify_v2a.ipynb",
   "provenance": []
  },
  "coursera": {
   "schema_names": [
    "DLSC5W2-A2"
   ]
  },
  "kernelspec": {
   "display_name": "Python 3",
   "language": "python",
   "name": "python3"
  },
  "language_info": {
   "codemirror_mode": {
    "name": "ipython",
    "version": 3
   },
   "file_extension": ".py",
   "mimetype": "text/x-python",
   "name": "python",
   "nbconvert_exporter": "python",
   "pygments_lexer": "ipython3",
   "version": "3.11.9"
  }
 },
 "nbformat": 4,
 "nbformat_minor": 1
}
